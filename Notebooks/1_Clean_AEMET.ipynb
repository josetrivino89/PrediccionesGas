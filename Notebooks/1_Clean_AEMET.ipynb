{
  "cells": [
    {
      "cell_type": "code",
      "execution_count": 110,
      "metadata": {
        "colab": {
          "base_uri": "https://localhost:8080/"
        },
        "id": "ZzMfgGOPAkBz",
        "outputId": "ea7d96ae-70b8-4574-f274-c803e0cd8b3a"
      },
      "outputs": [],
      "source": [
        "import pandas as pd\n",
        "import numpy as np\n",
        "import matplotlib.pyplot as plt"
      ]
    },
    {
      "cell_type": "code",
      "execution_count": 111,
      "metadata": {
        "colab": {
          "base_uri": "https://localhost:8080/"
        },
        "id": "EJFDcq0jAoEw",
        "outputId": "70545bc5-bd4f-470d-ff0e-1b847e134e6e"
      },
      "outputs": [],
      "source": [
        "# Especifica la ruta al archivo CSV\n",
        "path = r'C:\\\\Users\\\\joset\\\\OneDrive\\\\Documentos\\\\Master Big Data UCM\\\\18-TFN\\NaturgyProject\\\\data'\n",
        "# Lee el archivo CSV en un DataFrame de pandas\n",
        "AEMET_Previsiones_original = pd.read_csv(path + '\\\\Originales\\\\AEMET_Previsiones.csv', encoding = 'latin1')\n",
        "AEMET_Realidad_original = pd.read_csv(path + '\\\\Originales\\\\AEMET_Realidad.csv', encoding = 'latin1')"
      ]
    },
    {
      "cell_type": "code",
      "execution_count": 112,
      "metadata": {
        "id": "NQCqScUXA0jh"
      },
      "outputs": [],
      "source": [
        "AEMET_Realidad = AEMET_Realidad_original.copy()\n",
        "AEMET_Previsiones = AEMET_Previsiones_original.copy()"
      ]
    },
    {
      "cell_type": "code",
      "execution_count": 113,
      "metadata": {
        "colab": {
          "base_uri": "https://localhost:8080/",
          "height": 206
        },
        "id": "DLgHDB6pUvxN",
        "outputId": "e44ce31f-ca67-4464-91bd-1858ca3f232e"
      },
      "outputs": [
        {
          "data": {
            "text/html": [
              "<div>\n",
              "<style scoped>\n",
              "    .dataframe tbody tr th:only-of-type {\n",
              "        vertical-align: middle;\n",
              "    }\n",
              "\n",
              "    .dataframe tbody tr th {\n",
              "        vertical-align: top;\n",
              "    }\n",
              "\n",
              "    .dataframe thead th {\n",
              "        text-align: right;\n",
              "    }\n",
              "</style>\n",
              "<table border=\"1\" class=\"dataframe\">\n",
              "  <thead>\n",
              "    <tr style=\"text-align: right;\">\n",
              "      <th></th>\n",
              "      <th>INDICATIVO</th>\n",
              "      <th>ANYO</th>\n",
              "      <th>MES</th>\n",
              "      <th>DIA</th>\n",
              "      <th>NOMBRE</th>\n",
              "      <th>ALTITUD</th>\n",
              "      <th>NOM_PROV</th>\n",
              "      <th>LONGITUD</th>\n",
              "      <th>LATITUD</th>\n",
              "      <th>MAX</th>\n",
              "      <th>MIN</th>\n",
              "      <th>FECHA</th>\n",
              "    </tr>\n",
              "  </thead>\n",
              "  <tbody>\n",
              "    <tr>\n",
              "      <th>0</th>\n",
              "      <td>0016A</td>\n",
              "      <td>2009</td>\n",
              "      <td>01</td>\n",
              "      <td>01</td>\n",
              "      <td>REUS/AEROPUERTO</td>\n",
              "      <td>71.0</td>\n",
              "      <td>TARRAGONA</td>\n",
              "      <td>110441.0</td>\n",
              "      <td>410859.0</td>\n",
              "      <td>13.0</td>\n",
              "      <td>4.2</td>\n",
              "      <td>2009-01-01</td>\n",
              "    </tr>\n",
              "    <tr>\n",
              "      <th>1</th>\n",
              "      <td>0016A</td>\n",
              "      <td>2009</td>\n",
              "      <td>01</td>\n",
              "      <td>02</td>\n",
              "      <td>REUS/AEROPUERTO</td>\n",
              "      <td>71.0</td>\n",
              "      <td>TARRAGONA</td>\n",
              "      <td>110441.0</td>\n",
              "      <td>410859.0</td>\n",
              "      <td>11.3</td>\n",
              "      <td>4.2</td>\n",
              "      <td>2009-01-02</td>\n",
              "    </tr>\n",
              "    <tr>\n",
              "      <th>2</th>\n",
              "      <td>0016A</td>\n",
              "      <td>2009</td>\n",
              "      <td>01</td>\n",
              "      <td>03</td>\n",
              "      <td>REUS/AEROPUERTO</td>\n",
              "      <td>71.0</td>\n",
              "      <td>TARRAGONA</td>\n",
              "      <td>110441.0</td>\n",
              "      <td>410859.0</td>\n",
              "      <td>10.6</td>\n",
              "      <td>6.1</td>\n",
              "      <td>2009-01-03</td>\n",
              "    </tr>\n",
              "    <tr>\n",
              "      <th>3</th>\n",
              "      <td>0016A</td>\n",
              "      <td>2009</td>\n",
              "      <td>01</td>\n",
              "      <td>04</td>\n",
              "      <td>REUS/AEROPUERTO</td>\n",
              "      <td>71.0</td>\n",
              "      <td>TARRAGONA</td>\n",
              "      <td>110441.0</td>\n",
              "      <td>410859.0</td>\n",
              "      <td>11.3</td>\n",
              "      <td>-0.8</td>\n",
              "      <td>2009-01-04</td>\n",
              "    </tr>\n",
              "    <tr>\n",
              "      <th>4</th>\n",
              "      <td>0016A</td>\n",
              "      <td>2009</td>\n",
              "      <td>01</td>\n",
              "      <td>05</td>\n",
              "      <td>REUS/AEROPUERTO</td>\n",
              "      <td>71.0</td>\n",
              "      <td>TARRAGONA</td>\n",
              "      <td>110441.0</td>\n",
              "      <td>410859.0</td>\n",
              "      <td>10.6</td>\n",
              "      <td>-3.1</td>\n",
              "      <td>2009-01-05</td>\n",
              "    </tr>\n",
              "  </tbody>\n",
              "</table>\n",
              "</div>"
            ],
            "text/plain": [
              "  INDICATIVO  ANYO MES DIA           NOMBRE  ALTITUD   NOM_PROV  LONGITUD  \\\n",
              "0      0016A  2009  01  01  REUS/AEROPUERTO     71.0  TARRAGONA  110441.0   \n",
              "1      0016A  2009  01  02  REUS/AEROPUERTO     71.0  TARRAGONA  110441.0   \n",
              "2      0016A  2009  01  03  REUS/AEROPUERTO     71.0  TARRAGONA  110441.0   \n",
              "3      0016A  2009  01  04  REUS/AEROPUERTO     71.0  TARRAGONA  110441.0   \n",
              "4      0016A  2009  01  05  REUS/AEROPUERTO     71.0  TARRAGONA  110441.0   \n",
              "\n",
              "    LATITUD   MAX  MIN      FECHA  \n",
              "0  410859.0  13.0  4.2 2009-01-01  \n",
              "1  410859.0  11.3  4.2 2009-01-02  \n",
              "2  410859.0  10.6  6.1 2009-01-03  \n",
              "3  410859.0  11.3 -0.8 2009-01-04  \n",
              "4  410859.0  10.6 -3.1 2009-01-05  "
            ]
          },
          "execution_count": 113,
          "metadata": {},
          "output_type": "execute_result"
        }
      ],
      "source": [
        "# Crear una nueva columna FECHA agrupando DIA/MES/ANYO como en el anterior dataframe\n",
        "\n",
        "AEMET_Realidad['DIA'] = AEMET_Realidad['DIA'].astype(str).str.zfill(2)\n",
        "AEMET_Realidad['MES'] = AEMET_Realidad['MES'].astype(str).str.zfill(2)\n",
        "\n",
        "AEMET_Realidad['FECHA'] = AEMET_Realidad['DIA'] + '/' + AEMET_Realidad['MES'] + '/' + AEMET_Realidad['ANYO'].astype(str)\n",
        "AEMET_Realidad['FECHA'] = pd.to_datetime(AEMET_Realidad['FECHA'], format='%d/%m/%Y')\n",
        "\n",
        "AEMET_Realidad.head()"
      ]
    },
    {
      "cell_type": "code",
      "execution_count": 114,
      "metadata": {
        "colab": {
          "base_uri": "https://localhost:8080/"
        },
        "id": "ncvQXXZ1XFAs",
        "outputId": "8f6cc1b6-050b-45b6-c4d9-bc1a13fae334"
      },
      "outputs": [
        {
          "name": "stdout",
          "output_type": "stream",
          "text": [
            "INDICATIVO            object\n",
            "ANYO                   int64\n",
            "MES                   object\n",
            "DIA                   object\n",
            "NOMBRE                object\n",
            "ALTITUD              float64\n",
            "NOM_PROV              object\n",
            "LONGITUD             float64\n",
            "LATITUD              float64\n",
            "MAX                  float64\n",
            "MIN                  float64\n",
            "FECHA         datetime64[ns]\n",
            "dtype: object\n"
          ]
        }
      ],
      "source": [
        "print(AEMET_Realidad.dtypes)"
      ]
    },
    {
      "cell_type": "code",
      "execution_count": 115,
      "metadata": {
        "id": "MANmQ8tHXcVE"
      },
      "outputs": [],
      "source": [
        "AEMET_Realidad[['MES', 'DIA']] = AEMET_Realidad[['MES', 'DIA']].astype(int)"
      ]
    },
    {
      "cell_type": "code",
      "execution_count": 116,
      "metadata": {
        "id": "PFC4ecpiRk6S"
      },
      "outputs": [],
      "source": [
        "# Las filas de 3168C son duplicados de 3168D. 3168C solo llega hasta 2014\n",
        "AEMET_Realidad = AEMET_Realidad[AEMET_Realidad['INDICATIVO'] != '3168C']\n",
        "\n",
        "# 1249I No tiene valores despúes de 2014 posiblemente sea el anterior a 1249x porque hay meses de 2014 que parece que se repiten las mediciones.\n",
        "# Como vamos a utilizar a partir de 2016 no hay problema\n",
        "AEMET_Realidad = AEMET_Realidad[AEMET_Realidad['INDICATIVO'] != '1249I']\n",
        "\n",
        "# 1111 Parece que tiene valores duplicados con 1111X y solo llega hasta 2014\n",
        "AEMET_Realidad = AEMET_Realidad[AEMET_Realidad['INDICATIVO'] != '1111']\n",
        "\n",
        "# 8416 Parece que tiene valores duplicados con 8416Y y solo llega hasta 2014\n",
        "AEMET_Realidad = AEMET_Realidad[AEMET_Realidad['INDICATIVO'] != '8416']\n",
        "\n",
        "# 9434 Parece que tiene valores duplicados con 9434P y solo llega hasta 2014\n",
        "AEMET_Realidad = AEMET_Realidad[AEMET_Realidad['INDICATIVO'] != '9434']\n",
        "\n"
      ]
    },
    {
      "cell_type": "code",
      "execution_count": 117,
      "metadata": {
        "id": "tqHeo20WB7WL"
      },
      "outputs": [],
      "source": [
        "# Las filas con el INDICATIVO 1387 y LATITUD 433700 correspondientes a mes de marzo del 16 están 'duplicadas'\n",
        "AEMET_Realidad = AEMET_Realidad[AEMET_Realidad['LATITUD'] != 433700]"
      ]
    },
    {
      "cell_type": "code",
      "execution_count": 118,
      "metadata": {
        "id": "fhUM1AW-C6N0"
      },
      "outputs": [],
      "source": [
        "# Eliminar las filas donde INDICATIVO es 1387E, LONGITUD es 822192 y LATITUD es nulo. Son duplicidades en fechas detectadas en 2015\n",
        "AEMET_Realidad = AEMET_Realidad.drop(AEMET_Realidad[(AEMET_Realidad['INDICATIVO'] == '1387E') &\n",
        "                                                    (AEMET_Realidad['LONGITUD'] == 822192) &\n",
        "                                                    (AEMET_Realidad['LATITUD'].isnull())].index)"
      ]
    },
    {
      "cell_type": "code",
      "execution_count": 119,
      "metadata": {
        "id": "Skbg145LHQEl"
      },
      "outputs": [],
      "source": [
        "# El observatorio 8178D tiene valores duplicados en octubre del 22 cuando cambia la lat y long\n",
        "# primero hay que borrar los duplicados (que tienen max y min varcia) y luego aunar las coordenadas\n",
        "AEMET_Realidad = AEMET_Realidad.drop(AEMET_Realidad[(AEMET_Realidad['INDICATIVO'] == '8178D') &\n",
        "                                                    (AEMET_Realidad['LONGITUD'] == 151462) &\n",
        "                                                    (AEMET_Realidad['LATITUD'] == 390021) &\n",
        "                                                    (AEMET_Realidad['ANYO'] == 2022) &\n",
        "                                                    (AEMET_Realidad['MES'] == 10) &\n",
        "                                                    (AEMET_Realidad['MAX'].isnull())].index)"
      ]
    },
    {
      "cell_type": "code",
      "execution_count": 120,
      "metadata": {
        "id": "swCNf1afIcbM"
      },
      "outputs": [],
      "source": [
        "AEMET_Realidad.loc[AEMET_Realidad['INDICATIVO'] == '8178D', ['LATITUD', 'LONGITUD']] = [390021, 151462]"
      ]
    },
    {
      "cell_type": "code",
      "execution_count": 121,
      "metadata": {
        "id": "7W8HFOcXIsX1"
      },
      "outputs": [],
      "source": [
        "# El observatorio 8175 tiene valores duplicados en diciembre del 16 cuando cambia la lat y long\n",
        "# primero hay que borrar los duplicados y luego aunar las coordenadas\n",
        "AEMET_Realidad = AEMET_Realidad.drop(AEMET_Realidad[(AEMET_Realidad['INDICATIVO'] == '8175') &\n",
        "                                                    (AEMET_Realidad['LONGITUD'] == 151222) &\n",
        "                                                    (AEMET_Realidad['LATITUD'] == 385715) &\n",
        "                                                    (AEMET_Realidad['ANYO'] == 2016) &\n",
        "                                                    (AEMET_Realidad['MES'] == 12)].index)"
      ]
    },
    {
      "cell_type": "code",
      "execution_count": 122,
      "metadata": {
        "id": "R_QhIj44KfLp"
      },
      "outputs": [],
      "source": [
        "# El observatorio 8175 tiene valores duplicados en octubre del 16 cuando cambia la lat y long\n",
        "# primero hay que borrar los duplicados y luego aunar las coordenadas\n",
        "AEMET_Realidad = AEMET_Realidad.drop(AEMET_Realidad[(AEMET_Realidad['INDICATIVO'] == '8175') &\n",
        "                                                    (AEMET_Realidad['LONGITUD'] == 151452) &\n",
        "                                                    (AEMET_Realidad['LATITUD'] == 385706) &\n",
        "                                                    (AEMET_Realidad['ANYO'] == 2016) &\n",
        "                                                    (AEMET_Realidad['MES'] == 10)].index)\n",
        "\n",
        "AEMET_Realidad = AEMET_Realidad.drop(AEMET_Realidad[(AEMET_Realidad['INDICATIVO'] == '8175') &\n",
        "                                                    (AEMET_Realidad['LONGITUD'] == 151222) &\n",
        "                                                    (AEMET_Realidad['LATITUD'] == 385715) &\n",
        "                                                    (AEMET_Realidad['ANYO'] == 2016) &\n",
        "                                                    (AEMET_Realidad['MES'] == 9)].index)"
      ]
    },
    {
      "cell_type": "code",
      "execution_count": 123,
      "metadata": {
        "id": "Gfye359uMem4"
      },
      "outputs": [],
      "source": [
        "AEMET_Realidad.loc[AEMET_Realidad['INDICATIVO'] == '8175', ['LATITUD', 'LONGITUD']] = [385715, 151232]"
      ]
    },
    {
      "cell_type": "code",
      "execution_count": 124,
      "metadata": {
        "id": "t6i3ZQVwOdo_"
      },
      "outputs": [],
      "source": [
        "dias = [8,9,10,11,12]\n",
        "\n",
        "AEMET_Realidad = AEMET_Realidad.drop(AEMET_Realidad[(AEMET_Realidad['INDICATIVO'] == '2444') &\n",
        "                                                    (AEMET_Realidad['LONGITUD'] == 440472) &\n",
        "                                                    (AEMET_Realidad['LATITUD'] == 403933) &\n",
        "                                                    (AEMET_Realidad['ANYO'] == 2023) &\n",
        "                                                    (AEMET_Realidad['DIA'].isin(dias)) &\n",
        "                                                    (AEMET_Realidad['MES'] == 7)].index)"
      ]
    },
    {
      "cell_type": "code",
      "execution_count": 125,
      "metadata": {
        "id": "ZX-LIhDlZIkH"
      },
      "outputs": [],
      "source": [
        "AEMET_Realidad.loc[AEMET_Realidad['INDICATIVO'] == '2444', ['LATITUD', 'LONGITUD']] = [403933, 440472]"
      ]
    },
    {
      "cell_type": "code",
      "execution_count": 126,
      "metadata": {
        "id": "QDlSTM03aVph"
      },
      "outputs": [],
      "source": [
        "AEMET_Realidad.loc[AEMET_Realidad['INDICATIVO'] == '0201D', ['LATITUD', 'LONGITUD']] = [412326, 212001]"
      ]
    },
    {
      "cell_type": "code",
      "execution_count": 127,
      "metadata": {
        "id": "XQbWh5AYbhds"
      },
      "outputs": [],
      "source": [
        "dias = [8,9,10,11,12,13]\n",
        "\n",
        "AEMET_Realidad = AEMET_Realidad.drop(AEMET_Realidad[(AEMET_Realidad['INDICATIVO'] == '2331') &\n",
        "                                                    (AEMET_Realidad['LONGITUD'] == 337172) &\n",
        "                                                    (AEMET_Realidad['LATITUD'] == 422125) &\n",
        "                                                    (AEMET_Realidad['ANYO'] == 2023) &\n",
        "                                                    (AEMET_Realidad['DIA'].isin(dias)) &\n",
        "                                                    (AEMET_Realidad['MES'] == 7)].index)"
      ]
    },
    {
      "cell_type": "code",
      "execution_count": 128,
      "metadata": {
        "id": "Mf8hQ7T7cTqD"
      },
      "outputs": [],
      "source": [
        "AEMET_Realidad.loc[AEMET_Realidad['INDICATIVO'] == '2331', ['LATITUD', 'LONGITUD']] = [422125, 337172]"
      ]
    },
    {
      "cell_type": "code",
      "execution_count": 129,
      "metadata": {
        "id": "OFASm30oejQ8"
      },
      "outputs": [],
      "source": [
        "AEMET_Realidad.loc[AEMET_Realidad['INDICATIVO'] == '1082', ['LATITUD', 'LONGITUD']] = [431753, 254232]"
      ]
    },
    {
      "cell_type": "code",
      "execution_count": 130,
      "metadata": {
        "id": "8Wa4ME1OQJXG"
      },
      "outputs": [],
      "source": [
        "dias = [11,12,13,14,15,16]\n",
        "\n",
        "AEMET_Realidad = AEMET_Realidad.drop(AEMET_Realidad[(AEMET_Realidad['NOMBRE'] == 'BILBAO/AEROPUERTO') &\n",
        "                                                    (AEMET_Realidad['INDICATIVO'] == '1082') &\n",
        "                                                    (AEMET_Realidad['LONGITUD'] == 254232) &\n",
        "                                                    (AEMET_Realidad['LATITUD'] == 431753) &\n",
        "                                                    (AEMET_Realidad['ANYO'] == 2023) &\n",
        "                                                    (AEMET_Realidad['DIA'].isin(dias)) &\n",
        "                                                    (AEMET_Realidad['MES'] == 5)].index)"
      ]
    },
    {
      "cell_type": "code",
      "execution_count": 131,
      "metadata": {
        "id": "E2GEFS9cYlol"
      },
      "outputs": [],
      "source": [
        "AEMET_Realidad.loc[AEMET_Realidad['INDICATIVO'] == '1082', 'NOMBRE'] = 'BILBAO AEROPUERTO'"
      ]
    },
    {
      "cell_type": "code",
      "execution_count": 132,
      "metadata": {
        "id": "9CSNQEi0ROop"
      },
      "outputs": [],
      "source": [
        "AEMET_Realidad = AEMET_Realidad.drop(AEMET_Realidad[(AEMET_Realidad['INDICATIVO'] == '1428') &\n",
        "                                                    (AEMET_Realidad['LONGITUD'] == 824382) &\n",
        "                                                    (AEMET_Realidad['LATITUD'].isnull())].index)"
      ]
    },
    {
      "cell_type": "code",
      "execution_count": 133,
      "metadata": {
        "id": "--v5J1W7SSGX"
      },
      "outputs": [],
      "source": [
        "mes = [3,4,5,7,8,9,10]\n",
        "\n",
        "AEMET_Realidad = AEMET_Realidad.drop(AEMET_Realidad[(AEMET_Realidad['INDICATIVO'] == '1495') &\n",
        "                                                    (AEMET_Realidad['LONGITUD'] == 837262) &\n",
        "                                                    (AEMET_Realidad['LATITUD'].isnull()) &\n",
        "                                                    (AEMET_Realidad['ANYO'] == 2015) &\n",
        "                                                    (AEMET_Realidad['MES'].isin(mes))].index)"
      ]
    },
    {
      "cell_type": "code",
      "execution_count": 134,
      "metadata": {
        "id": "Sd1Z0ddQdbGe"
      },
      "outputs": [],
      "source": [
        "mes = [1,2,4,5,6,7,9,11,12]\n",
        "\n",
        "AEMET_Realidad = AEMET_Realidad.drop(AEMET_Realidad[(AEMET_Realidad['INDICATIVO'] == '1495') &\n",
        "                                                    (AEMET_Realidad['LONGITUD'] == 837262) &\n",
        "                                                    (AEMET_Realidad['LATITUD'].isnull()) &\n",
        "                                                    (AEMET_Realidad['ANYO'] == 2016) &\n",
        "                                                    (AEMET_Realidad['MES'].isin(mes))].index)"
      ]
    },
    {
      "cell_type": "code",
      "execution_count": 135,
      "metadata": {
        "id": "f57nGdwfZCbI"
      },
      "outputs": [],
      "source": [
        "dias = [1,2,3,4,5]\n",
        "\n",
        "AEMET_Realidad = AEMET_Realidad.drop(AEMET_Realidad[(AEMET_Realidad['INDICATIVO'] == '1428') &\n",
        "                                                    (AEMET_Realidad['NOMBRE'] == 'SANTIAGO DE COMPOSTELA/LAVACOLLA') &\n",
        "                                                    (AEMET_Realidad['LONGITUD'] == 824382) &\n",
        "                                                    (AEMET_Realidad['LATITUD'] == 425317) &\n",
        "                                                    (AEMET_Realidad['ANYO'] == 2016) &\n",
        "                                                    (AEMET_Realidad['MES'] == 5) &\n",
        "                                                    (AEMET_Realidad['DIA'].isin(dias))].index)\n",
        "\n",
        "dias1 = [14,15,16,17,18,19,30]\n",
        "\n",
        "AEMET_Realidad = AEMET_Realidad.drop(AEMET_Realidad[(AEMET_Realidad['INDICATIVO'] == '1428') &\n",
        "                                                    (AEMET_Realidad['NOMBRE'] == 'SANTIAGO DE COMPOSTELA/LAVACOLLA') &\n",
        "                                                    (AEMET_Realidad['LONGITUD'] == 824382) &\n",
        "                                                    (AEMET_Realidad['LATITUD'] == 425317) &\n",
        "                                                    (AEMET_Realidad['ANYO'] == 2016) &\n",
        "                                                    (AEMET_Realidad['MES'] == 4) &\n",
        "                                                    (AEMET_Realidad['DIA'].isin(dias1))].index)\n",
        "\n",
        "dias2 = [19,20,21,22,23,24]\n",
        "\n",
        "AEMET_Realidad = AEMET_Realidad.drop(AEMET_Realidad[(AEMET_Realidad['INDICATIVO'] == '1428') &\n",
        "                                                    (AEMET_Realidad['NOMBRE'] == 'SANTIAGO DE COMPOSTELA/LAVACOLLA') &\n",
        "                                                    (AEMET_Realidad['LONGITUD'] == 824382) &\n",
        "                                                    (AEMET_Realidad['LATITUD'] == 425317) &\n",
        "                                                    (AEMET_Realidad['ANYO'] == 2024) &\n",
        "                                                    (AEMET_Realidad['MES'] == 6) &\n",
        "                                                    (AEMET_Realidad['DIA'].isin(dias2))].index)"
      ]
    },
    {
      "cell_type": "code",
      "execution_count": 136,
      "metadata": {
        "id": "331zQc-ucQ_0"
      },
      "outputs": [],
      "source": [
        "AEMET_Realidad.loc[AEMET_Realidad['INDICATIVO'] == '1428', 'NOMBRE'] = 'SANTIAGO DE COMPOSTELA/LABACOLLA'"
      ]
    },
    {
      "cell_type": "code",
      "execution_count": 137,
      "metadata": {
        "id": "T-k20SfFeMdc"
      },
      "outputs": [],
      "source": [
        "dias = [8,9,10,11,12]\n",
        "\n",
        "AEMET_Realidad = AEMET_Realidad.drop(AEMET_Realidad[(AEMET_Realidad['INDICATIVO'] == '1505') &\n",
        "                                                    (AEMET_Realidad['LONGITUD'] == 727272) &\n",
        "                                                    (AEMET_Realidad['LATITUD'] == 430640) &\n",
        "                                                    (AEMET_Realidad['ANYO'] == 2023) &\n",
        "                                                    (AEMET_Realidad['MES'] == 7) &\n",
        "                                                    (AEMET_Realidad['DIA'].isin(dias))].index)\n",
        "\n",
        "dias1 = [9,10,11,12,13]\n",
        "\n",
        "AEMET_Realidad = AEMET_Realidad.drop(AEMET_Realidad[(AEMET_Realidad['INDICATIVO'] == '1505') &\n",
        "                                                    (AEMET_Realidad['LONGITUD'] == 727272) &\n",
        "                                                    (AEMET_Realidad['LATITUD'] == 430640) &\n",
        "                                                    (AEMET_Realidad['ANYO'] == 2023) &\n",
        "                                                    (AEMET_Realidad['MES'] == 8) &\n",
        "                                                    (AEMET_Realidad['DIA'].isin(dias1))].index)"
      ]
    },
    {
      "cell_type": "code",
      "execution_count": 138,
      "metadata": {
        "id": "H7Q_orAGgw75"
      },
      "outputs": [],
      "source": [
        "AEMET_Realidad.loc[AEMET_Realidad['INDICATIVO'] == '1505', 'LATITUD'] = 430641"
      ]
    },
    {
      "cell_type": "code",
      "execution_count": 139,
      "metadata": {
        "id": "IFVnXmehg4qD"
      },
      "outputs": [],
      "source": [
        "AEMET_Realidad = AEMET_Realidad.drop(AEMET_Realidad[(AEMET_Realidad['INDICATIVO'] == '1549') &\n",
        "                                                    (AEMET_Realidad['LATITUD'] == 425600) &\n",
        "                                                    (AEMET_Realidad['ANYO'] == 2016) &\n",
        "                                                    (AEMET_Realidad['MES'] == 5)].index)"
      ]
    },
    {
      "cell_type": "code",
      "execution_count": 140,
      "metadata": {
        "id": "Ar6jJEPCkTpI"
      },
      "outputs": [],
      "source": [
        "dias = [9,10,11,12,13,14]\n",
        "\n",
        "AEMET_Realidad = AEMET_Realidad.drop(AEMET_Realidad[(AEMET_Realidad['INDICATIVO'] == '2422') &\n",
        "                                                    (AEMET_Realidad['LONGITUD'] == 445152) &\n",
        "                                                    (AEMET_Realidad['ANYO'] == 2023) &\n",
        "                                                    (AEMET_Realidad['MES'] == 8) &\n",
        "                                                    (AEMET_Realidad['DIA'].isin(dias))].index)\n",
        "\n",
        "dias1 = [8,9,10,11,12]\n",
        "\n",
        "AEMET_Realidad = AEMET_Realidad.drop(AEMET_Realidad[(AEMET_Realidad['INDICATIVO'] == '2422') &\n",
        "                                                    (AEMET_Realidad['LONGITUD'] == 445152) &\n",
        "                                                    (AEMET_Realidad['ANYO'] == 2023) &\n",
        "                                                    (AEMET_Realidad['MES'] == 7) &\n",
        "                                                    (AEMET_Realidad['DIA'].isin(dias))].index)"
      ]
    },
    {
      "cell_type": "code",
      "execution_count": 141,
      "metadata": {
        "id": "YdDRPCD-kmBF"
      },
      "outputs": [],
      "source": [
        "AEMET_Realidad.loc[AEMET_Realidad['INDICATIVO'] == '2422', 'LONGITUD'] = 445162"
      ]
    },
    {
      "cell_type": "code",
      "execution_count": 142,
      "metadata": {
        "id": "1OnKhC8vlMiG"
      },
      "outputs": [],
      "source": [
        "AEMET_Realidad = AEMET_Realidad.drop(AEMET_Realidad[(AEMET_Realidad['INDICATIVO'] == '3129') &\n",
        "                                                    (AEMET_Realidad['LONGITUD'] == 333202) &\n",
        "                                                    (AEMET_Realidad['LATITUD'].isnull())].index)"
      ]
    },
    {
      "cell_type": "code",
      "execution_count": 143,
      "metadata": {
        "id": "KxUnjf6fmEX6"
      },
      "outputs": [],
      "source": [
        "dias = [2,3,4,5,6]\n",
        "\n",
        "AEMET_Realidad = AEMET_Realidad.drop(AEMET_Realidad[(AEMET_Realidad['INDICATIVO'] == '3195') &\n",
        "                                                    (AEMET_Realidad['NOMBRE'] == 'MADRID, RETIRO')&\n",
        "                                                    (AEMET_Realidad['ANYO'] == 2018) &\n",
        "                                                    (AEMET_Realidad['MES'] == 6) &\n",
        "                                                    (AEMET_Realidad['DIA'].isin(dias))].index)\n",
        "\n",
        "dias1 = [10,11,12,13,14]\n",
        "\n",
        "AEMET_Realidad = AEMET_Realidad.drop(AEMET_Realidad[(AEMET_Realidad['INDICATIVO'] == '3195') &\n",
        "                                                    (AEMET_Realidad['NOMBRE'] == 'MADRID, RETIRO')&\n",
        "                                                    (AEMET_Realidad['ANYO'] == 2020) &\n",
        "                                                    (AEMET_Realidad['MES'] == 2) &\n",
        "                                                    (AEMET_Realidad['DIA'].isin(dias1))].index)\n",
        "\n",
        "AEMET_Realidad.loc[AEMET_Realidad['INDICATIVO'] == '3195', 'NOMBRE'] = 'MADRID, RETIRO'"
      ]
    },
    {
      "cell_type": "code",
      "execution_count": 144,
      "metadata": {
        "id": "G15BXFbuoPpy"
      },
      "outputs": [],
      "source": [
        "AEMET_Realidad = AEMET_Realidad.drop(AEMET_Realidad[(AEMET_Realidad['INDICATIVO'] == '4121') &\n",
        "                                                    (AEMET_Realidad['LONGITUD'] == 355132) &\n",
        "                                                    (AEMET_Realidad['LATITUD'] == 389900)].index)"
      ]
    },
    {
      "cell_type": "code",
      "execution_count": 145,
      "metadata": {
        "id": "XGD_NKfQcO7y"
      },
      "outputs": [],
      "source": [
        "AEMET_Realidad = AEMET_Realidad.drop(AEMET_Realidad[(AEMET_Realidad['INDICATIVO'] == '5402') &\n",
        "                                                    (AEMET_Realidad['DIA'] == 27) &\n",
        "                                                    (AEMET_Realidad['MES'] == 2) &\n",
        "                                                    (AEMET_Realidad['ANYO'] == 2015) &\n",
        "                                                    (AEMET_Realidad['LONGITUD'] == 450462) &\n",
        "                                                    (AEMET_Realidad['LATITUD'] == 375039)].index)\n",
        "\n",
        "AEMET_Realidad.loc[AEMET_Realidad['INDICATIVO'] == '5402', ['LATITUD', 'LONGITUD']] = [375056, 450482]"
      ]
    },
    {
      "cell_type": "code",
      "execution_count": 146,
      "metadata": {
        "id": "oBcMMaHfdw2k"
      },
      "outputs": [],
      "source": [
        "AEMET_Realidad.loc[AEMET_Realidad['INDICATIVO'] == '5973', 'NOMBRE'] = 'CADIZ,OBS.'"
      ]
    },
    {
      "cell_type": "code",
      "execution_count": 147,
      "metadata": {
        "id": "hs4OmJoQeecQ"
      },
      "outputs": [],
      "source": [
        "dias1 = [9,10,11,12,13,14]\n",
        "\n",
        "AEMET_Realidad = AEMET_Realidad.drop(AEMET_Realidad[(AEMET_Realidad['INDICATIVO'] == '9170') &\n",
        "                                                    (AEMET_Realidad['NOMBRE'] == 'LOGROÑO, AEROPUERTO')&\n",
        "                                                    (AEMET_Realidad['ANYO'] == 2021) &\n",
        "                                                    (AEMET_Realidad['MES'] == 4) &\n",
        "                                                    (AEMET_Realidad['DIA'].isin(dias1))].index)\n",
        "\n",
        "AEMET_Realidad.loc[AEMET_Realidad['INDICATIVO'] == '9170', 'NOMBRE'] = 'LOGROÑO, AEROPUERTO'"
      ]
    },
    {
      "cell_type": "code",
      "execution_count": 148,
      "metadata": {
        "id": "wDbkrUFdgaHA"
      },
      "outputs": [],
      "source": [
        "dias = [29,30]\n",
        "\n",
        "AEMET_Realidad = AEMET_Realidad.drop(AEMET_Realidad[(AEMET_Realidad['INDICATIVO'] == '9898') &\n",
        "                                                    (AEMET_Realidad['LONGITUD'] == 19322) &\n",
        "                                                    (AEMET_Realidad['LATITUD'] == 420504) &\n",
        "                                                    (AEMET_Realidad['ANYO'] == 2016) &\n",
        "                                                    (AEMET_Realidad['MES'] == 9) &\n",
        "                                                    (AEMET_Realidad['DIA'].isin(dias))].index)\n",
        "\n",
        "dias1 = [1,2,3]\n",
        "\n",
        "AEMET_Realidad = AEMET_Realidad.drop(AEMET_Realidad[(AEMET_Realidad['INDICATIVO'] == '9898') &\n",
        "                                                    (AEMET_Realidad['LONGITUD'] == 19322) &\n",
        "                                                    (AEMET_Realidad['LATITUD'] == 420504) &\n",
        "                                                    (AEMET_Realidad['ANYO'] == 2016) &\n",
        "                                                    (AEMET_Realidad['MES'] == 10) &\n",
        "                                                    (AEMET_Realidad['DIA'].isin(dias1))].index)\n",
        "\n",
        "dias2 = [9,10,11,12]\n",
        "\n",
        "AEMET_Realidad = AEMET_Realidad.drop(AEMET_Realidad[(AEMET_Realidad['INDICATIVO'] == '9898') &\n",
        "                                                    (AEMET_Realidad['LONGITUD'] == 19322) &\n",
        "                                                    (AEMET_Realidad['LATITUD'] == 420504) &\n",
        "                                                    (AEMET_Realidad['ANYO'] == 2021) &\n",
        "                                                    (AEMET_Realidad['MES'] == 4) &\n",
        "                                                    (AEMET_Realidad['DIA'].isin(dias2))].index)\n",
        "\n",
        "AEMET_Realidad.loc[AEMET_Realidad['INDICATIVO'] == '9898', 'NOMBRE'] = 'HUESCA, AEROPUERTO'\n",
        "\n",
        "AEMET_Realidad.loc[AEMET_Realidad['INDICATIVO'] == '9898', ['LATITUD', 'LONGITUD']] = [420504, 19322]"
      ]
    },
    {
      "cell_type": "code",
      "execution_count": 149,
      "metadata": {
        "id": "Hefj8YWjiXFt"
      },
      "outputs": [],
      "source": [
        "dias = [22,23,24,25,26]\n",
        "\n",
        "AEMET_Realidad = AEMET_Realidad.drop(AEMET_Realidad[(AEMET_Realidad['INDICATIVO'] == '0016A') &\n",
        "                                                    (AEMET_Realidad['LONGITUD'] == 109491) &\n",
        "                                                    (AEMET_Realidad['LATITUD'] == 410842) &\n",
        "                                                    (AEMET_Realidad['ANYO'] == 2016) &\n",
        "                                                    (AEMET_Realidad['MES'] == 9) &\n",
        "                                                    (AEMET_Realidad['DIA'].isin(dias))].index)\n",
        "\n",
        "AEMET_Realidad.loc[AEMET_Realidad['INDICATIVO'] == '0016A', ['LATITUD', 'LONGITUD']] = [410842, 109491]"
      ]
    },
    {
      "cell_type": "code",
      "execution_count": 150,
      "metadata": {
        "id": "HxypqfLokOfL"
      },
      "outputs": [],
      "source": [
        "dias1 = [11,12,13,14,15]\n",
        "\n",
        "AEMET_Realidad = AEMET_Realidad.drop(AEMET_Realidad[(AEMET_Realidad['INDICATIVO'] == '1024E') &\n",
        "                                                    (AEMET_Realidad['NOMBRE'] == 'SAN SEBASTIÁN,IGUELDO')&\n",
        "                                                    (AEMET_Realidad['ANYO'] == 2023) &\n",
        "                                                    (AEMET_Realidad['MES'] == 5) &\n",
        "                                                    (AEMET_Realidad['DIA'].isin(dias1))].index)\n",
        "\n",
        "AEMET_Realidad.loc[AEMET_Realidad['INDICATIVO'] == '1024E', 'NOMBRE'] = 'SAN SEBASTIÁN,IGUELDO'"
      ]
    },
    {
      "cell_type": "code",
      "execution_count": 151,
      "metadata": {
        "id": "W2wRxU_RlX51"
      },
      "outputs": [],
      "source": [
        "dias = [8,9,10,11,12,13]\n",
        "\n",
        "AEMET_Realidad = AEMET_Realidad.drop(AEMET_Realidad[(AEMET_Realidad['INDICATIVO'] == '1249X') &\n",
        "                                                    (AEMET_Realidad['LONGITUD'] == 552262) &\n",
        "                                                    (AEMET_Realidad['LATITUD'] == 432112) &\n",
        "                                                    (AEMET_Realidad['ANYO'] == 2023) &\n",
        "                                                    (AEMET_Realidad['MES'] == 7) &\n",
        "                                                    (AEMET_Realidad['DIA'].isin(dias))].index)\n",
        "\n",
        "dias1 = [9,10,11,12,13]\n",
        "\n",
        "AEMET_Realidad = AEMET_Realidad.drop(AEMET_Realidad[(AEMET_Realidad['INDICATIVO'] == '1249X') &\n",
        "                                                    (AEMET_Realidad['LONGITUD'] == 552262) &\n",
        "                                                    (AEMET_Realidad['LATITUD'] == 432112) &\n",
        "                                                    (AEMET_Realidad['ANYO'] == 2023) &\n",
        "                                                    (AEMET_Realidad['MES'] == 8) &\n",
        "                                                    (AEMET_Realidad['DIA'].isin(dias1))].index)\n",
        "\n",
        "AEMET_Realidad.loc[AEMET_Realidad['INDICATIVO'] == '1249X', ['LATITUD', 'LONGITUD']] = [432112, 552262]"
      ]
    },
    {
      "cell_type": "code",
      "execution_count": 152,
      "metadata": {
        "id": "Lv1hc_bkmyqM"
      },
      "outputs": [],
      "source": [
        "dias = [8,9,10,11,12,13]\n",
        "\n",
        "AEMET_Realidad = AEMET_Realidad.drop(AEMET_Realidad[(AEMET_Realidad['INDICATIVO'] == '3168D') &\n",
        "                                                    (AEMET_Realidad['LONGITUD'] == 309012) &\n",
        "                                                    (AEMET_Realidad['LATITUD'] == 403749) &\n",
        "                                                    (AEMET_Realidad['ANYO'] == 2023) &\n",
        "                                                    (AEMET_Realidad['MES'] == 7) &\n",
        "                                                    (AEMET_Realidad['DIA'].isin(dias))].index)\n",
        "\n",
        "dias1 = [9,10,11,12,13]\n",
        "\n",
        "AEMET_Realidad = AEMET_Realidad.drop(AEMET_Realidad[(AEMET_Realidad['INDICATIVO'] == '3168D') &\n",
        "                                                    (AEMET_Realidad['LONGITUD'] == 309012) &\n",
        "                                                    (AEMET_Realidad['LATITUD'] == 403749) &\n",
        "                                                    (AEMET_Realidad['ANYO'] == 2023) &\n",
        "                                                    (AEMET_Realidad['MES'] == 8) &\n",
        "                                                    (AEMET_Realidad['DIA'].isin(dias1))].index)\n",
        "\n",
        "AEMET_Realidad.loc[AEMET_Realidad['INDICATIVO'] == '3168D', ['LATITUD', 'LONGITUD']] = [403749, 309002]"
      ]
    },
    {
      "cell_type": "code",
      "execution_count": 153,
      "metadata": {
        "id": "wC2corLtnJZY"
      },
      "outputs": [],
      "source": [
        "AEMET_Realidad = AEMET_Realidad.drop(AEMET_Realidad[(AEMET_Realidad['INDICATIVO'] == '3260B') &\n",
        "                                                    (AEMET_Realidad['LONGITUD'] == 402432) &\n",
        "                                                    (AEMET_Realidad['LATITUD'] == 398800)].index)"
      ]
    },
    {
      "cell_type": "code",
      "execution_count": 154,
      "metadata": {
        "id": "S2kFjTpGp6ns"
      },
      "outputs": [],
      "source": [
        "AEMET_Realidad.loc[AEMET_Realidad['INDICATIVO'] == '4642E', ['LATITUD', 'LONGITUD']] = [371642, 654422]"
      ]
    },
    {
      "cell_type": "code",
      "execution_count": 155,
      "metadata": {
        "id": "Oy7cOczuqLGi"
      },
      "outputs": [],
      "source": [
        "AEMET_Realidad.loc[AEMET_Realidad['INDICATIVO'] == '5270B', ['LONGITUD', 'LATITUD']] = [348322, 374639]"
      ]
    },
    {
      "cell_type": "code",
      "execution_count": 156,
      "metadata": {
        "id": "nurzDUcwqqdL"
      },
      "outputs": [],
      "source": [
        "dias = [2,3,4,5,6]\n",
        "AEMET_Realidad = AEMET_Realidad.drop(AEMET_Realidad[(AEMET_Realidad['INDICATIVO'] == '5530E') &\n",
        "                                                    (AEMET_Realidad['LONGITUD'] == 347232) &\n",
        "                                                    (AEMET_Realidad['LATITUD'] == 371125) &\n",
        "                                                    (AEMET_Realidad['ANYO'] == 2023) &\n",
        "                                                    (AEMET_Realidad['MES'] == 2) &\n",
        "                                                    (AEMET_Realidad['DIA'].isin(dias))].index)\n",
        "\n",
        "AEMET_Realidad.loc[AEMET_Realidad['INDICATIVO'] == '5530E', ['LATITUD', 'LONGITUD']] = [371125, 347232]"
      ]
    },
    {
      "cell_type": "code",
      "execution_count": 157,
      "metadata": {
        "id": "y05I5YjvtBL6"
      },
      "outputs": [],
      "source": [
        "dias = [26,27,28]\n",
        "AEMET_Realidad = AEMET_Realidad.drop(AEMET_Realidad[(AEMET_Realidad['INDICATIVO'] == '5790Y') &\n",
        "                                                    (AEMET_Realidad['LONGITUD'] == 600162) &\n",
        "                                                    (AEMET_Realidad['LATITUD'] == 372158) &\n",
        "                                                    (AEMET_Realidad['ANYO'] == 2015) &\n",
        "                                                    (AEMET_Realidad['MES'] == 2) &\n",
        "                                                    (AEMET_Realidad['DIA'].isin(dias))].index)\n",
        "\n",
        "AEMET_Realidad.loc[AEMET_Realidad['INDICATIVO'] == '5790Y', ['LATITUD', 'LONGITUD']] = [372151, 600212]"
      ]
    },
    {
      "cell_type": "code",
      "execution_count": 158,
      "metadata": {
        "id": "JphnVeYItvu0"
      },
      "outputs": [],
      "source": [
        "dias = [8,9,10,11,12]\n",
        "\n",
        "AEMET_Realidad = AEMET_Realidad.drop(AEMET_Realidad[(AEMET_Realidad['INDICATIVO'] == '8368U') &\n",
        "                                                    (AEMET_Realidad['LONGITUD'] == 107272) &\n",
        "                                                    (AEMET_Realidad['LATITUD'] == 402103) &\n",
        "                                                    (AEMET_Realidad['ANYO'] == 2023) &\n",
        "                                                    (AEMET_Realidad['MES'] == 7) &\n",
        "                                                    (AEMET_Realidad['DIA'].isin(dias))].index)\n",
        "\n",
        "dias1 = [9,10,11,12,13]\n",
        "\n",
        "AEMET_Realidad = AEMET_Realidad.drop(AEMET_Realidad[(AEMET_Realidad['INDICATIVO'] == '8368U') &\n",
        "                                                    (AEMET_Realidad['LONGITUD'] == 107272) &\n",
        "                                                    (AEMET_Realidad['LATITUD'] == 402103) &\n",
        "                                                    (AEMET_Realidad['ANYO'] == 2023) &\n",
        "                                                    (AEMET_Realidad['MES'] == 8) &\n",
        "                                                    (AEMET_Realidad['DIA'].isin(dias1))].index)\n",
        "\n",
        "AEMET_Realidad.loc[AEMET_Realidad['INDICATIVO'] == '8368U', ['LATITUD', 'LONGITUD']] = [402102, 107272]"
      ]
    },
    {
      "cell_type": "code",
      "execution_count": 159,
      "metadata": {
        "id": "liCVCovIg7vB"
      },
      "outputs": [],
      "source": [
        "AEMET_Realidad.loc[AEMET_Realidad['INDICATIVO'] == '8500A', ['LATITUD', 'LONGITUD']] = [395726, 4192]\n",
        "AEMET_Realidad.loc[AEMET_Realidad['INDICATIVO'] == '8500A', 'NOMBRE'] = 'CASTELLÓN-ALMAZORA'"
      ]
    },
    {
      "cell_type": "code",
      "execution_count": 160,
      "metadata": {
        "id": "inRu-Vj2k2mr"
      },
      "outputs": [],
      "source": [
        "dias1 = [28,29,30]\n",
        "\n",
        "AEMET_Realidad = AEMET_Realidad.drop(AEMET_Realidad[(AEMET_Realidad['INDICATIVO'] == '9091R') &\n",
        "                                                    (AEMET_Realidad['LONGITUD'] == 244002) &\n",
        "                                                    (AEMET_Realidad['ANYO'] == 2015) &\n",
        "                                                    (AEMET_Realidad['MES'] == 11) &\n",
        "                                                    (AEMET_Realidad['DIA'].isin(dias1))].index)\n",
        "\n",
        "dias2 = [1,2]\n",
        "\n",
        "AEMET_Realidad = AEMET_Realidad.drop(AEMET_Realidad[(AEMET_Realidad['INDICATIVO'] == '9091R') &\n",
        "                                                    (AEMET_Realidad['LONGITUD'] == 244002) &\n",
        "                                                    (AEMET_Realidad['ANYO'] == 2015) &\n",
        "                                                    (AEMET_Realidad['MES'] == 12) &\n",
        "                                                    (AEMET_Realidad['DIA'].isin(dias2))].index)\n",
        "\n",
        "dias3 = [15,16,17,18,19,20]\n",
        "\n",
        "AEMET_Realidad = AEMET_Realidad.drop(AEMET_Realidad[(AEMET_Realidad['INDICATIVO'] == '9091R') &\n",
        "                                                    (AEMET_Realidad['LONGITUD'] == 243592) &\n",
        "                                                    (AEMET_Realidad['ANYO'] == 2018) &\n",
        "                                                    (AEMET_Realidad['MES'] == 5) &\n",
        "                                                    (AEMET_Realidad['DIA'].isin(dias3))].index)\n",
        "\n",
        "dias5 = [11,12,13,14,15]\n",
        "\n",
        "AEMET_Realidad = AEMET_Realidad.drop(AEMET_Realidad[(AEMET_Realidad['INDICATIVO'] == '9091R') &\n",
        "                                                    (AEMET_Realidad['NOMBRE'] == 'VITORIA-GASTEIZ AEROPUERTO') &\n",
        "                                                    (AEMET_Realidad['LONGITUD'] == 243582) &\n",
        "                                                    (AEMET_Realidad['ANYO'] == 2023) &\n",
        "                                                    (AEMET_Realidad['MES'] == 5) &\n",
        "                                                    (AEMET_Realidad['DIA'].isin(dias5))].index)"
      ]
    },
    {
      "cell_type": "code",
      "execution_count": 161,
      "metadata": {
        "id": "ogNoTDgsq2Eq"
      },
      "outputs": [],
      "source": [
        "AEMET_Realidad.loc[AEMET_Realidad['INDICATIVO'] == '9091R', ['LATITUD', 'LONGITUD']] = [425219, 243582]\n",
        "AEMET_Realidad.loc[AEMET_Realidad['INDICATIVO'] == '9091R', 'NOMBRE'] = 'VITORIA-GASTEIZ AEROPUERTO'"
      ]
    },
    {
      "cell_type": "code",
      "execution_count": 162,
      "metadata": {
        "id": "jjVlDEO4rgjs"
      },
      "outputs": [],
      "source": [
        "dias5 = [9,10,11,12,13]\n",
        "\n",
        "AEMET_Realidad = AEMET_Realidad.drop(AEMET_Realidad[(AEMET_Realidad['INDICATIVO'] == '9263D') &\n",
        "                                                    (AEMET_Realidad['NOMBRE'] == 'PAMPLONA, AEROPUERTO') &\n",
        "                                                    (AEMET_Realidad['ANYO'] == 2021) &\n",
        "                                                    (AEMET_Realidad['MES'] == 4) &\n",
        "                                                    (AEMET_Realidad['DIA'].isin(dias5))].index)\n",
        "\n",
        "\n",
        "AEMET_Realidad.loc[AEMET_Realidad['INDICATIVO'] == '9263D', 'NOMBRE'] = 'PAMPLONA, AEROPUERTO'"
      ]
    },
    {
      "cell_type": "code",
      "execution_count": 163,
      "metadata": {
        "id": "Xq3EmEm0t3Zl"
      },
      "outputs": [],
      "source": [
        "dias5 = [12,13,14,15,16]\n",
        "\n",
        "AEMET_Realidad = AEMET_Realidad.drop(AEMET_Realidad[(AEMET_Realidad['INDICATIVO'] == '9434P') &\n",
        "                                                    (AEMET_Realidad['NOMBRE'] == 'ZARAGOZA, VALDESPARTERA') &\n",
        "                                                    (AEMET_Realidad['LONGITUD'] == 56062)&\n",
        "                                                    (AEMET_Realidad['ANYO'] == 2023) &\n",
        "                                                    (AEMET_Realidad['MES'] == 9) &\n",
        "                                                    (AEMET_Realidad['DIA'].isin(dias5))].index)\n",
        "\n",
        "dias6 = [9,10,11,12,13]\n",
        "\n",
        "AEMET_Realidad = AEMET_Realidad.drop(AEMET_Realidad[(AEMET_Realidad['INDICATIVO'] == '9434P') &\n",
        "                                                    (AEMET_Realidad['NOMBRE'] == 'ZARAGOZA-VALDESPARTERA') &\n",
        "                                                    (AEMET_Realidad['ANYO'] == 2021) &\n",
        "                                                    (AEMET_Realidad['MES'] == 4) &\n",
        "                                                    (AEMET_Realidad['DIA'].isin(dias6))].index)\n",
        "\n",
        "AEMET_Realidad.loc[AEMET_Realidad['INDICATIVO'] == '9434P', ['LATITUD', 'LONGITUD']] = [413716, 56052]\n",
        "AEMET_Realidad.loc[AEMET_Realidad['INDICATIVO'] == '9434P', 'NOMBRE'] = 'ZARAGOZA, VALDESPARTERA'"
      ]
    },
    {
      "cell_type": "code",
      "execution_count": 164,
      "metadata": {
        "id": "ICnP2uKiwQ_4"
      },
      "outputs": [],
      "source": [
        "dias6 = [2,3,4,5,6]\n",
        "\n",
        "AEMET_Realidad = AEMET_Realidad.drop(AEMET_Realidad[(AEMET_Realidad['INDICATIVO'] == 'B228') &\n",
        "                                                    (AEMET_Realidad['NOMBRE'] == 'PALMA-PUERTO') &\n",
        "                                                    (AEMET_Realidad['ANYO'] == 2020) &\n",
        "                                                    (AEMET_Realidad['MES'] == 10) &\n",
        "                                                    (AEMET_Realidad['DIA'].isin(dias6))].index)\n",
        "\n",
        "AEMET_Realidad.loc[AEMET_Realidad['INDICATIVO'] == 'B228', ['LATITUD', 'LONGITUD']] = [393319, 237311]\n",
        "AEMET_Realidad.loc[AEMET_Realidad['INDICATIVO'] == 'B228', 'NOMBRE'] = 'PALMA-PUERTO'"
      ]
    },
    {
      "cell_type": "code",
      "execution_count": 165,
      "metadata": {
        "id": "WC0PUv9oyqPs"
      },
      "outputs": [],
      "source": [
        "dias6 = [1,2,3,4]\n",
        "\n",
        "AEMET_Realidad = AEMET_Realidad.drop(AEMET_Realidad[(AEMET_Realidad['INDICATIVO'] == 'C649I') &\n",
        "                                                    (AEMET_Realidad['LONGITUD'] == 1523222) &\n",
        "                                                    (AEMET_Realidad['ANYO'] == 2016) &\n",
        "                                                    (AEMET_Realidad['MES'] == 10) &\n",
        "                                                    (AEMET_Realidad['DIA'].isin(dias6))].index)\n",
        "\n",
        "dias7 = [29,30]\n",
        "AEMET_Realidad = AEMET_Realidad.drop(AEMET_Realidad[(AEMET_Realidad['INDICATIVO'] == 'C649I') &\n",
        "                                                    (AEMET_Realidad['LONGITUD'] == 1523222) &\n",
        "                                                    (AEMET_Realidad['ANYO'] == 2016) &\n",
        "                                                    (AEMET_Realidad['MES'] == 9) &\n",
        "                                                    (AEMET_Realidad['DIA'].isin(dias7))].index)\n",
        "\n",
        "\n",
        "AEMET_Realidad.loc[AEMET_Realidad['INDICATIVO'] == 'C649I', ['LATITUD', 'LONGITUD']] = [275504, 1523432]"
      ]
    },
    {
      "cell_type": "code",
      "execution_count": 166,
      "metadata": {
        "id": "Ta3U_lin1G8c"
      },
      "outputs": [],
      "source": [
        "AEMET_Realidad = AEMET_Realidad.drop(AEMET_Realidad[(AEMET_Realidad['INDICATIVO'] == '1495') &\n",
        "                                                    (AEMET_Realidad['LONGITUD'] == 837262) &\n",
        "                                                    (AEMET_Realidad['LATITUD'].isnull())].index)"
      ]
    },
    {
      "cell_type": "markdown",
      "metadata": {
        "id": "X1iCGjW6ynny"
      },
      "source": [
        "________________________________________________________________________________"
      ]
    },
    {
      "cell_type": "code",
      "execution_count": 167,
      "metadata": {
        "id": "bStmFXwr62Ez"
      },
      "outputs": [],
      "source": [
        "AEMET_Realidad = AEMET_Realidad.drop_duplicates()"
      ]
    },
    {
      "cell_type": "code",
      "execution_count": 168,
      "metadata": {
        "id": "eR2JhIpvqRT3"
      },
      "outputs": [],
      "source": [
        "dia = [26,27,28,29,30,31]\n",
        "AEMET_Realidad = AEMET_Realidad.drop(AEMET_Realidad[(AEMET_Realidad['NOMBRE'] == 'REUS/AEROPUERTO') &\n",
        "                                                    (AEMET_Realidad['ALTITUD'] == 68) &\n",
        "                                                    (AEMET_Realidad['ANYO'] == 2015) &\n",
        "                                                    (AEMET_Realidad['MES'] == 1) &\n",
        "                                                    (AEMET_Realidad['DIA'].isin(dia))].index)\n",
        "\n",
        "AEMET_Realidad = AEMET_Realidad.drop(AEMET_Realidad[(AEMET_Realidad['NOMBRE'] == 'REUS/AEROPUERTO') &\n",
        "                                                    (AEMET_Realidad['ALTITUD'] == 68) &\n",
        "                                                    (AEMET_Realidad['ANYO'] == 2015) &\n",
        "                                                    (AEMET_Realidad['MES'] == 2) &\n",
        "                                                    (AEMET_Realidad['DIA'] == 1)].index)"
      ]
    },
    {
      "cell_type": "code",
      "execution_count": 169,
      "metadata": {
        "id": "ORTQX6N6quYh"
      },
      "outputs": [],
      "source": [
        "dia = [26,27,28]\n",
        "AEMET_Realidad = AEMET_Realidad.drop(AEMET_Realidad[(AEMET_Realidad['NOMBRE'] == 'TARRAGONA, FAC. GEOGRAFÍA') &\n",
        "                                                    (AEMET_Realidad['ALTITUD'] == 55) &\n",
        "                                                    (AEMET_Realidad['ANYO'] == 2015)&\n",
        "                                                    (AEMET_Realidad['MES'] == 1) &\n",
        "                                                    (AEMET_Realidad['DIA'].isin(dia))].index)"
      ]
    },
    {
      "cell_type": "code",
      "execution_count": 170,
      "metadata": {
        "id": "pbE2qeiYr-RA"
      },
      "outputs": [],
      "source": [
        "dia = [26,27,28,29,30,31]\n",
        "AEMET_Realidad = AEMET_Realidad.drop(AEMET_Realidad[(AEMET_Realidad['NOMBRE'] == 'BARCELONA/AEROPUERTO') &\n",
        "                                                    (AEMET_Realidad['ALTITUD'] == 4) &\n",
        "                                                    (AEMET_Realidad['ANYO'] == 2015) &\n",
        "                                                    (AEMET_Realidad['MES'] == 1) &\n",
        "                                                    (AEMET_Realidad['DIA'].isin(dia))].index)\n",
        "\n",
        "dia1 = [1,2]\n",
        "AEMET_Realidad = AEMET_Realidad.drop(AEMET_Realidad[(AEMET_Realidad['NOMBRE'] == 'BARCELONA/AEROPUERTO') &\n",
        "                                                    (AEMET_Realidad['ALTITUD'] == 4) &\n",
        "                                                    (AEMET_Realidad['ANYO'] == 2015) &\n",
        "                                                    (AEMET_Realidad['MES'] == 2) &\n",
        "                                                    (AEMET_Realidad['DIA'].isin(dia1))].index)"
      ]
    },
    {
      "cell_type": "code",
      "execution_count": 171,
      "metadata": {
        "id": "FAhx6e6ZsWfL"
      },
      "outputs": [],
      "source": [
        "dia = [26,27,28]\n",
        "AEMET_Realidad = AEMET_Realidad.drop(AEMET_Realidad[(AEMET_Realidad['NOMBRE'] == 'BARCELONA,CMT') &\n",
        "                                                    (AEMET_Realidad['ALTITUD'] == 25) &\n",
        "                                                    (AEMET_Realidad['ANYO'] == 2015) &\n",
        "                                                    (AEMET_Realidad['MES'] == 1) &\n",
        "                                                    (AEMET_Realidad['DIA'].isin(dia))].index)"
      ]
    },
    {
      "cell_type": "code",
      "execution_count": 172,
      "metadata": {
        "id": "sB3NedZksjUd"
      },
      "outputs": [],
      "source": [
        "dia = [9,10,11,12,13]\n",
        "AEMET_Realidad = AEMET_Realidad.drop(AEMET_Realidad[(AEMET_Realidad['NOMBRE'] == 'SAN SEBASTIÁN,IGUELDO') &\n",
        "                                                    (AEMET_Realidad['ALTITUD'] == 250) &\n",
        "                                                    (AEMET_Realidad['ANYO'] == 2023) &\n",
        "                                                    (AEMET_Realidad['MES'] == 8) &\n",
        "                                                    (AEMET_Realidad['DIA'].isin(dia))].index)"
      ]
    },
    {
      "cell_type": "code",
      "execution_count": 173,
      "metadata": {
        "id": "wJoWs8Sesw4f"
      },
      "outputs": [],
      "source": [
        "dia = [8,9,10,11,12,13]\n",
        "AEMET_Realidad = AEMET_Realidad.drop(AEMET_Realidad[(AEMET_Realidad['NOMBRE'] == 'SANTANDER,CMT') &\n",
        "                                                    (AEMET_Realidad['ALTITUD'] == 51) &\n",
        "                                                    (AEMET_Realidad['ANYO'] == 2023) &\n",
        "                                                    (AEMET_Realidad['MES'] == 7) &\n",
        "                                                    (AEMET_Realidad['DIA'].isin(dia))].index)"
      ]
    },
    {
      "cell_type": "code",
      "execution_count": 174,
      "metadata": {
        "id": "AacVHu_5s6tM"
      },
      "outputs": [],
      "source": [
        "dia = [7,8,9,10,11]\n",
        "AEMET_Realidad = AEMET_Realidad.drop(AEMET_Realidad[(AEMET_Realidad['NOMBRE'] == 'OVIEDO') &\n",
        "                                                    (AEMET_Realidad['ALTITUD'] == 338) &\n",
        "                                                    (AEMET_Realidad['ANYO'] == 2023) &\n",
        "                                                    (AEMET_Realidad['MES'] == 2) &\n",
        "                                                    (AEMET_Realidad['DIA'].isin(dia))].index)"
      ]
    },
    {
      "cell_type": "code",
      "execution_count": 175,
      "metadata": {
        "id": "p7KrE5sptHig"
      },
      "outputs": [],
      "source": [
        "mes = [6,7]\n",
        "AEMET_Realidad = AEMET_Realidad.drop(AEMET_Realidad[(AEMET_Realidad['NOMBRE'] == 'A CORUÑA') &\n",
        "                                                    (AEMET_Realidad['ALTITUD'] == 57) &\n",
        "                                                    (AEMET_Realidad['MES'].isin(mes)) &\n",
        "                                                    (AEMET_Realidad['ANYO'] == 2023) &\n",
        "                                                    (AEMET_Realidad['MAX'].isnull())].index)\n",
        "\n",
        "dia = [8,9,10,11,12,13]\n",
        "AEMET_Realidad = AEMET_Realidad.drop(AEMET_Realidad[(AEMET_Realidad['NOMBRE'] == 'A CORUÑA') &\n",
        "                                                    (AEMET_Realidad['ALTITUD'] == 57) &\n",
        "                                                    (AEMET_Realidad['DIA'].isin(dia)) &\n",
        "                                                    (AEMET_Realidad['ANYO'] == 2023) &\n",
        "                                                    (AEMET_Realidad['MES'] == 7)].index)"
      ]
    },
    {
      "cell_type": "code",
      "execution_count": 176,
      "metadata": {
        "id": "ER58i379tesi"
      },
      "outputs": [],
      "source": [
        "mes = [10,11]\n",
        "AEMET_Realidad = AEMET_Realidad.drop(AEMET_Realidad[(AEMET_Realidad['NOMBRE'] == 'VIGO/PEINADOR') &\n",
        "                                                    (AEMET_Realidad['ALTITUD'] == 255) &\n",
        "                                                    (AEMET_Realidad['MES'].isin(mes)) &\n",
        "                                                    (AEMET_Realidad['ANYO'] == 2022) &\n",
        "                                                    (AEMET_Realidad['MAX'].isnull())].index)"
      ]
    },
    {
      "cell_type": "code",
      "execution_count": 177,
      "metadata": {
        "id": "sJNZbZ21tlZA"
      },
      "outputs": [],
      "source": [
        "mes = [6,7]\n",
        "AEMET_Realidad = AEMET_Realidad.drop(AEMET_Realidad[(AEMET_Realidad['NOMBRE'] == 'PONFERRADA') &\n",
        "                                                    (AEMET_Realidad['ALTITUD'] == 534) &\n",
        "                                                    (AEMET_Realidad['MES'].isin(mes)) &\n",
        "                                                    (AEMET_Realidad['ANYO'] == 2023) &\n",
        "                                                    (AEMET_Realidad['MAX'].isnull())].index)"
      ]
    },
    {
      "cell_type": "code",
      "execution_count": 178,
      "metadata": {
        "id": "4i6lMyJxwSyy"
      },
      "outputs": [],
      "source": [
        "mes = [6,7]\n",
        "AEMET_Realidad = AEMET_Realidad.drop(AEMET_Realidad[(AEMET_Realidad['NOMBRE'] == 'TOLEDO') &\n",
        "                                                    (AEMET_Realidad['ALTITUD'] == 513) &\n",
        "                                                    (AEMET_Realidad['MES'].isin(mes)) &\n",
        "                                                    (AEMET_Realidad['ANYO'] == 2023) &\n",
        "                                                    (AEMET_Realidad['MAX'].isnull())].index)\n",
        "\n",
        "dia = [8,9,10,11,12]\n",
        "AEMET_Realidad = AEMET_Realidad.drop(AEMET_Realidad[(AEMET_Realidad['NOMBRE'] == 'TOLEDO') &\n",
        "                                                    (AEMET_Realidad['ALTITUD'] == 513) &\n",
        "                                                    (AEMET_Realidad['DIA'].isin(dia)) &\n",
        "                                                    (AEMET_Realidad['ANYO'] == 2023) &\n",
        "                                                    (AEMET_Realidad['MES'] == 7)].index)"
      ]
    },
    {
      "cell_type": "code",
      "execution_count": 179,
      "metadata": {
        "id": "wqnyqya1wxVd"
      },
      "outputs": [],
      "source": [
        "dia = [8,9,10,11,12,13]\n",
        "AEMET_Realidad = AEMET_Realidad.drop(AEMET_Realidad[(AEMET_Realidad['NOMBRE'] == 'PONTEVEDRA') &\n",
        "                                                    (AEMET_Realidad['ALTITUD'] == 113) &\n",
        "                                                    (AEMET_Realidad['DIA'].isin(dia)) &\n",
        "                                                    (AEMET_Realidad['ANYO'] == 2023) &\n",
        "                                                    (AEMET_Realidad['MES'] == 7)].index)"
      ]
    },
    {
      "cell_type": "code",
      "execution_count": 180,
      "metadata": {
        "id": "DlHqVRmGw42h"
      },
      "outputs": [],
      "source": [
        "dia = [8,9,10,11,12,13]\n",
        "AEMET_Realidad = AEMET_Realidad.drop(AEMET_Realidad[(AEMET_Realidad['NOMBRE'] == 'OURENSE') &\n",
        "                                                    (AEMET_Realidad['ALTITUD'] == 143) &\n",
        "                                                    (AEMET_Realidad['DIA'].isin(dia)) &\n",
        "                                                    (AEMET_Realidad['ANYO'] == 2023) &\n",
        "                                                    (AEMET_Realidad['MES'] == 7)].index)"
      ]
    },
    {
      "cell_type": "code",
      "execution_count": 181,
      "metadata": {
        "id": "kDDJj1wyxCNR"
      },
      "outputs": [],
      "source": [
        "dia = [8,9,10,11,12,13]\n",
        "AEMET_Realidad = AEMET_Realidad.drop(AEMET_Realidad[(AEMET_Realidad['NOMBRE'] == 'SORIA') &\n",
        "                                                    (AEMET_Realidad['ALTITUD'] == 1081) &\n",
        "                                                    (AEMET_Realidad['DIA'].isin(dia)) &\n",
        "                                                    (AEMET_Realidad['ANYO'] == 2023) &\n",
        "                                                    (AEMET_Realidad['MES'] == 7)].index)"
      ]
    },
    {
      "cell_type": "code",
      "execution_count": 182,
      "metadata": {
        "id": "5FYA1xfk_0Wp"
      },
      "outputs": [],
      "source": [
        "dia = [8,9,10,11,12]\n",
        "AEMET_Realidad = AEMET_Realidad.drop(AEMET_Realidad[(AEMET_Realidad['NOMBRE'] == 'SEGOVIA') &\n",
        "                                                    (AEMET_Realidad['ALTITUD'] == 1005) &\n",
        "                                                    (AEMET_Realidad['DIA'].isin(dia)) &\n",
        "                                                    (AEMET_Realidad['ANYO'] == 2023) &\n",
        "                                                    (AEMET_Realidad['MES'] == 7)].index)"
      ]
    },
    {
      "cell_type": "code",
      "execution_count": 183,
      "metadata": {
        "id": "KJ1AF7jmAG_u"
      },
      "outputs": [],
      "source": [
        "mes = [6,7]\n",
        "AEMET_Realidad = AEMET_Realidad.drop(AEMET_Realidad[(AEMET_Realidad['NOMBRE'] == 'CIUDAD REAL') &\n",
        "                                                    (AEMET_Realidad['ALTITUD'] == 626) &\n",
        "                                                    (AEMET_Realidad['MES'].isin(mes)) &\n",
        "                                                    (AEMET_Realidad['ANYO'] == 2023) &\n",
        "                                                    (AEMET_Realidad['MAX'].isnull())].index)\n",
        "\n",
        "dia = [8,9,10,11,12]\n",
        "AEMET_Realidad = AEMET_Realidad.drop(AEMET_Realidad[(AEMET_Realidad['NOMBRE'] == 'CIUDAD REAL') &\n",
        "                                                    (AEMET_Realidad['ALTITUD'] == 626) &\n",
        "                                                    (AEMET_Realidad['DIA'].isin(dia)) &\n",
        "                                                    (AEMET_Realidad['ANYO'] == 2023) &\n",
        "                                                    (AEMET_Realidad['MES'] == 7)].index)"
      ]
    },
    {
      "cell_type": "code",
      "execution_count": 184,
      "metadata": {
        "id": "B6I3rre7A9Ns"
      },
      "outputs": [],
      "source": [
        "AEMET_Realidad = AEMET_Realidad.drop(AEMET_Realidad[(AEMET_Realidad['NOMBRE'] == 'VALLADOLID') &\n",
        "                                                    (AEMET_Realidad['ALTITUD'] == 734) &\n",
        "                                                    (AEMET_Realidad['DIA'] == 8) &\n",
        "                                                    (AEMET_Realidad['ANYO'] == 2023) &\n",
        "                                                    (AEMET_Realidad['MES'] == 7)].index)"
      ]
    },
    {
      "cell_type": "code",
      "execution_count": 185,
      "metadata": {
        "id": "ttFzGowaBIGr"
      },
      "outputs": [],
      "source": [
        "dia = [8,9,10,11,12]\n",
        "AEMET_Realidad = AEMET_Realidad.drop(AEMET_Realidad[(AEMET_Realidad['NOMBRE'] == 'BADAJOZ/TALAVERA LA REAL') &\n",
        "                                                    (AEMET_Realidad['ALTITUD'] == 185) &\n",
        "                                                    (AEMET_Realidad['DIA'].isin(dia)) &\n",
        "                                                    (AEMET_Realidad['ANYO'] == 2023) &\n",
        "                                                    (AEMET_Realidad['MES'] == 7)].index)\n",
        "\n",
        "dia = [25,26,27,28,29,30]\n",
        "AEMET_Realidad = AEMET_Realidad.drop(AEMET_Realidad[(AEMET_Realidad['NOMBRE'] == 'BADAJOZ/TALAVERA LA REAL') &\n",
        "                                                    (AEMET_Realidad['ALTITUD'] == 185) &\n",
        "                                                    (AEMET_Realidad['DIA'].isin(dia)) &\n",
        "                                                    (AEMET_Realidad['ANYO'] == 2023) &\n",
        "                                                    (AEMET_Realidad['MES'] == 11)].index)"
      ]
    },
    {
      "cell_type": "code",
      "execution_count": 186,
      "metadata": {
        "id": "tMJf_SIABbNn"
      },
      "outputs": [],
      "source": [
        "dia = [14,15,16,17,18]\n",
        "AEMET_Realidad = AEMET_Realidad.drop(AEMET_Realidad[(AEMET_Realidad['NOMBRE'] == 'HUELVA, RONDA ESTE') &\n",
        "                                                    (AEMET_Realidad['ALTITUD'] == 18) &\n",
        "                                                    (AEMET_Realidad['DIA'].isin(dia)) &\n",
        "                                                    (AEMET_Realidad['ANYO'] == 2022) &\n",
        "                                                    (AEMET_Realidad['MES'] == 10)].index)"
      ]
    },
    {
      "cell_type": "code",
      "execution_count": 187,
      "metadata": {
        "id": "uvZkIx_NBlZn"
      },
      "outputs": [],
      "source": [
        "dia = [25,26,27,28,29,30]\n",
        "AEMET_Realidad = AEMET_Realidad.drop(AEMET_Realidad[(AEMET_Realidad['NOMBRE'] == 'GRANADA/AEROPUERTO') &\n",
        "                                                    (AEMET_Realidad['ALTITUD'] == 560) &\n",
        "                                                    (AEMET_Realidad['DIA'].isin(dia)) &\n",
        "                                                    (AEMET_Realidad['ANYO'] == 2023) &\n",
        "                                                    (AEMET_Realidad['MES'] == 11)].index)"
      ]
    },
    {
      "cell_type": "code",
      "execution_count": 188,
      "metadata": {
        "id": "BvOB9C4rB0OZ"
      },
      "outputs": [],
      "source": [
        "AEMET_Realidad = AEMET_Realidad.drop(AEMET_Realidad[(AEMET_Realidad['NOMBRE'] == 'CADIZ,OBS.') &\n",
        "                                                    (AEMET_Realidad['ALTITUD'] == 2) &\n",
        "                                                    (AEMET_Realidad['DIA'] == 1) &\n",
        "                                                    (AEMET_Realidad['ANYO'] == 2011) &\n",
        "                                                    (AEMET_Realidad['MAX'].isnull()) &\n",
        "                                                    (AEMET_Realidad['MES'] == 3)].index)"
      ]
    },
    {
      "cell_type": "code",
      "execution_count": 189,
      "metadata": {
        "id": "VTF07SeTCPL1"
      },
      "outputs": [],
      "source": [
        "dia = [8,9,10,11,12]\n",
        "AEMET_Realidad = AEMET_Realidad.drop(AEMET_Realidad[(AEMET_Realidad['NOMBRE'] == 'MURCIA') &\n",
        "                                                    (AEMET_Realidad['ALTITUD'] == 61) &\n",
        "                                                    (AEMET_Realidad['DIA'].isin(dia)) &\n",
        "                                                    (AEMET_Realidad['ANYO'] == 2023) &\n",
        "                                                    (AEMET_Realidad['MES'] == 7)].index)"
      ]
    },
    {
      "cell_type": "code",
      "execution_count": 190,
      "metadata": {
        "id": "jvla3MtPCZFF"
      },
      "outputs": [],
      "source": [
        "dia = [8,9,10,11,12]\n",
        "AEMET_Realidad = AEMET_Realidad.drop(AEMET_Realidad[(AEMET_Realidad['NOMBRE'] == 'CUENCA') &\n",
        "                                                    (AEMET_Realidad['ALTITUD'] == 948) &\n",
        "                                                    (AEMET_Realidad['DIA'].isin(dia)) &\n",
        "                                                    (AEMET_Realidad['ANYO'] == 2023) &\n",
        "                                                    (AEMET_Realidad['MES'] == 7)].index)"
      ]
    },
    {
      "cell_type": "code",
      "execution_count": 191,
      "metadata": {
        "id": "Z_UpJGLPChYK"
      },
      "outputs": [],
      "source": [
        "AEMET_Realidad = AEMET_Realidad.drop(AEMET_Realidad[(AEMET_Realidad['NOMBRE'] == 'ALBACETE,OBS.') &\n",
        "                                                    (AEMET_Realidad['ALTITUD'] == 676) &\n",
        "                                                    (AEMET_Realidad['MES'] == 6) &\n",
        "                                                    (AEMET_Realidad['ANYO'] == 2018) &\n",
        "                                                    (AEMET_Realidad['MAX'].isnull())].index)"
      ]
    },
    {
      "cell_type": "code",
      "execution_count": 192,
      "metadata": {
        "id": "0Dr-CI5YC1h_"
      },
      "outputs": [],
      "source": [
        "ANIO = [2009,2010,2011]\n",
        "AEMET_Realidad = AEMET_Realidad.drop(AEMET_Realidad[(AEMET_Realidad['NOMBRE'] == 'VITORIA-GASTEIZ AEROPUERTO') &\n",
        "                                                    (AEMET_Realidad['ALTITUD'] == 513) &\n",
        "                                                    (AEMET_Realidad['MES'] == 3) &\n",
        "                                                    (AEMET_Realidad['DIA'] == 1) &\n",
        "                                                    (AEMET_Realidad['ANYO'].isin(ANIO)) &\n",
        "                                                    (AEMET_Realidad['MAX'].isnull())].index)"
      ]
    },
    {
      "cell_type": "code",
      "execution_count": 193,
      "metadata": {
        "id": "lA1xN0mkDiZQ"
      },
      "outputs": [],
      "source": [
        "dia = [14,15,16,17,18,19]\n",
        "AEMET_Realidad = AEMET_Realidad.drop(AEMET_Realidad[(AEMET_Realidad['NOMBRE'] == 'ALBACETE,OBS.') &\n",
        "                                                    (AEMET_Realidad['ALTITUD'] == 676) &\n",
        "                                                    (AEMET_Realidad['DIA'].isin(dia)) &\n",
        "                                                    (AEMET_Realidad['ANYO'] == 2018) &\n",
        "                                                    (AEMET_Realidad['MES'] == 6)].index)\n",
        "\n",
        "dia = [15,16,17,18,19]\n",
        "AEMET_Realidad = AEMET_Realidad.drop(AEMET_Realidad[(AEMET_Realidad['NOMBRE'] == 'ALBACETE,OBS.') &\n",
        "                                                    (AEMET_Realidad['ALTITUD'] == 676) &\n",
        "                                                    (AEMET_Realidad['DIA'].isin(dia)) &\n",
        "                                                    (AEMET_Realidad['ANYO'] == 2022) &\n",
        "                                                    (AEMET_Realidad['MES'] == 10)].index)"
      ]
    },
    {
      "cell_type": "code",
      "execution_count": 194,
      "metadata": {
        "id": "3r-Kxq5UFEyv"
      },
      "outputs": [],
      "source": [
        "dia = [27,28,29,30]\n",
        "AEMET_Realidad = AEMET_Realidad.drop(AEMET_Realidad[(AEMET_Realidad['NOMBRE'] == 'CASTELLÓN-ALMAZORA') &\n",
        "                                                    (AEMET_Realidad['ALTITUD'] == 43) &\n",
        "                                                    (AEMET_Realidad['DIA'].isin(dia)) &\n",
        "                                                    (AEMET_Realidad['ANYO'] == 2022) &\n",
        "                                                    (AEMET_Realidad['MES'] == 4)].index)\n",
        "\n",
        "dia1 = [8,9,10,11,12]\n",
        "AEMET_Realidad = AEMET_Realidad.drop(AEMET_Realidad[(AEMET_Realidad['NOMBRE'] == 'CASTELLÓN-ALMAZORA') &\n",
        "                                                    (AEMET_Realidad['ALTITUD'] == 43) &\n",
        "                                                    (AEMET_Realidad['DIA'].isin(dia1)) &\n",
        "                                                    (AEMET_Realidad['ANYO'] == 2023) &\n",
        "                                                    (AEMET_Realidad['MES'] == 7)].index)\n",
        "\n",
        "AEMET_Realidad = AEMET_Realidad.drop(AEMET_Realidad[(AEMET_Realidad['NOMBRE'] == 'CASTELLÓN-ALMAZORA') &\n",
        "                                                    (AEMET_Realidad['ALTITUD'] == 43) &\n",
        "                                                    (AEMET_Realidad['DIA'] == 1) &\n",
        "                                                    (AEMET_Realidad['ANYO'] == 2022) &\n",
        "                                                    (AEMET_Realidad['MES'] == 5)].index)"
      ]
    },
    {
      "cell_type": "code",
      "execution_count": 195,
      "metadata": {
        "id": "kcpwnbj0Fjqp"
      },
      "outputs": [],
      "source": [
        "dia1 = [8,9,10,11,12]\n",
        "AEMET_Realidad = AEMET_Realidad.drop(AEMET_Realidad[(AEMET_Realidad['NOMBRE'] == 'LLEIDA') &\n",
        "                                                    (AEMET_Realidad['ALTITUD'] == 185) &\n",
        "                                                    (AEMET_Realidad['DIA'].isin(dia1)) &\n",
        "                                                    (AEMET_Realidad['ANYO'] == 2023) &\n",
        "                                                    (AEMET_Realidad['MES'] == 7)].index)"
      ]
    },
    {
      "cell_type": "code",
      "execution_count": 196,
      "metadata": {
        "id": "ubpw_eC2GBco"
      },
      "outputs": [],
      "source": [
        "dia1 = [1,2,3,4,5]\n",
        "AEMET_Realidad = AEMET_Realidad.drop(AEMET_Realidad[(AEMET_Realidad['NOMBRE'] == 'HUESCA, AEROPUERTO') &\n",
        "                                                    (AEMET_Realidad['ALTITUD'] == 541) &\n",
        "                                                    (AEMET_Realidad['DIA'].isin(dia1)) &\n",
        "                                                    (AEMET_Realidad['ANYO'] == 2016) &\n",
        "                                                    (AEMET_Realidad['MES'] == 11)].index)"
      ]
    },
    {
      "cell_type": "code",
      "execution_count": 197,
      "metadata": {
        "id": "fw5BBOTYGPfC"
      },
      "outputs": [],
      "source": [
        "dia1 = [9,10,11,12,13,14]\n",
        "AEMET_Realidad = AEMET_Realidad.drop(AEMET_Realidad[(AEMET_Realidad['NOMBRE'] == 'GRAN CANARIA/AEROPUERTO') &\n",
        "                                                    (AEMET_Realidad['ALTITUD'] == 24) &\n",
        "                                                    (AEMET_Realidad['DIA'].isin(dia1)) &\n",
        "                                                    (AEMET_Realidad['ANYO'] == 2022) &\n",
        "                                                    (AEMET_Realidad['MES'] == 11)].index)"
      ]
    },
    {
      "cell_type": "code",
      "execution_count": 198,
      "metadata": {
        "colab": {
          "base_uri": "https://localhost:8080/"
        },
        "id": "UwrS-dcECknr",
        "outputId": "e541f1b5-8ad2-46e3-8e8b-b6fa71eaa720"
      },
      "outputs": [
        {
          "name": "stdout",
          "output_type": "stream",
          "text": [
            "INDICATIVO    0.000000\n",
            "ANYO          0.000000\n",
            "MES           0.000000\n",
            "DIA           0.000000\n",
            "NOMBRE        0.000000\n",
            "ALTITUD       0.654437\n",
            "NOM_PROV      0.654437\n",
            "LONGITUD      0.000000\n",
            "LATITUD       0.000000\n",
            "MAX           5.668795\n",
            "MIN           6.099409\n",
            "FECHA         0.000000\n",
            "dtype: float64\n",
            "\n",
            "INDICATIVO    0.000000\n",
            "ANYO          0.000000\n",
            "MES           0.000000\n",
            "DIA           0.000000\n",
            "NOMBRE        0.000000\n",
            "ALTITUD       0.654437\n",
            "NOM_PROV      0.654437\n",
            "LONGITUD      0.000000\n",
            "LATITUD       0.000000\n",
            "MAX           5.668795\n",
            "MIN           6.099409\n",
            "FECHA         0.000000\n",
            "dtype: float64\n"
          ]
        }
      ],
      "source": [
        "# Calcular el porcentaje de valores vacíos por columna\n",
        "porcentaje_perdidos = AEMET_Realidad.isnull().mean() * 100\n",
        "porcentaje_perdidos_act = AEMET_Realidad.isnull().mean() * 100\n",
        "\n",
        "# Mostrar el porcentaje de valores vacíos por columna\n",
        "print(porcentaje_perdidos)\n",
        "print()\n",
        "print(porcentaje_perdidos_act)"
      ]
    },
    {
      "cell_type": "code",
      "execution_count": 199,
      "metadata": {
        "id": "44D0n2TKQhZM"
      },
      "outputs": [],
      "source": [
        "AEMET_Realidad.to_csv(path + 'AEMET_Realidad_limpio.csv', index=False)"
      ]
    },
    {
      "cell_type": "code",
      "execution_count": 200,
      "metadata": {
        "colab": {
          "base_uri": "https://localhost:8080/"
        },
        "id": "MMggRYmvGy7h",
        "outputId": "4ec08c28-ae14-4b14-9fe9-349cedfc3ae5"
      },
      "outputs": [
        {
          "name": "stdout",
          "output_type": "stream",
          "text": [
            "DataFrame Filtrado:\n",
            "     FECHA_FICH  HORA_FICH      FECHA                  DESC_ESTACION  \\\n",
            "0    03/12/2014          0 2014-12-03                       A Coruña   \n",
            "10   03/12/2014          0 2014-12-03                       Albacete   \n",
            "20   03/12/2014          0 2014-12-03            Albacete Base Aérea   \n",
            "30   03/12/2014          0 2014-12-03               Alicante/Alacant   \n",
            "40   03/12/2014          0 2014-12-03             Almería Aeropuerto   \n",
            "50   03/12/2014          0 2014-12-03               Autilla del Pino   \n",
            "60   03/12/2014          0 2014-12-03             Badajoz Aeropuerto   \n",
            "70   03/12/2014          0 2014-12-03                      Barcelona   \n",
            "80   03/12/2014          0 2014-12-03           Barcelona Aeropuerto   \n",
            "90   03/12/2014          0 2014-12-03              Bilbao Aeropuerto   \n",
            "100  03/12/2014          0 2014-12-03              Burgos Aeropuerto   \n",
            "110  03/12/2014          0 2014-12-03  Castellón de la Plana, Almazo   \n",
            "120  03/12/2014          0 2014-12-03                    Ciudad Real   \n",
            "130  03/12/2014          0 2014-12-03                         Cuenca   \n",
            "140  03/12/2014          0 2014-12-03                        Cáceres   \n",
            "\n",
            "    ID_ESTACION  T_MAX  T_MIN  al  \n",
            "0          1387   12.4    9.5 NaN  \n",
            "10        8178D   11.7    2.6 NaN  \n",
            "20         8175   11.4    2.6 NaN  \n",
            "30         8025   16.7    8.7 NaN  \n",
            "40        6325O   18.1   11.7 NaN  \n",
            "50        2400E    7.3    1.2 NaN  \n",
            "60         4452   13.1    7.4 NaN  \n",
            "70        0201D   13.9   11.4 NaN  \n",
            "80         0076   13.9    9.8 NaN  \n",
            "90         1082   11.8    7.6 NaN  \n",
            "100       2331X    6.7    2.5 NaN  \n",
            "110       8500A   13.5    7.9 NaN  \n",
            "120        4121   12.2    5.2 NaN  \n",
            "130        8096   10.4    3.4 NaN  \n",
            "140       3469A   11.6    7.1 NaN  \n"
          ]
        },
        {
          "name": "stderr",
          "output_type": "stream",
          "text": [
            "C:\\Users\\joset\\AppData\\Local\\Temp\\ipykernel_42688\\3205320432.py:2: SettingWithCopyWarning: \n",
            "A value is trying to be set on a copy of a slice from a DataFrame.\n",
            "Try using .loc[row_indexer,col_indexer] = value instead\n",
            "\n",
            "See the caveats in the documentation: https://pandas.pydata.org/pandas-docs/stable/user_guide/indexing.html#returning-a-view-versus-a-copy\n",
            "  Prediccion_AEMET_corta['FECHA'] = pd.to_datetime(Prediccion_AEMET_corta['FECHA'], format='%d/%m/%Y')\n"
          ]
        }
      ],
      "source": [
        "Prediccion_AEMET_corta = AEMET_Previsiones[AEMET_Previsiones['FECHA_FICH'] == AEMET_Previsiones['FECHA']]\n",
        "Prediccion_AEMET_corta['FECHA'] = pd.to_datetime(Prediccion_AEMET_corta['FECHA'], format='%d/%m/%Y')\n",
        "\n",
        "print(\"DataFrame Filtrado:\")\n",
        "print(Prediccion_AEMET_corta.head(15))"
      ]
    },
    {
      "cell_type": "code",
      "execution_count": 201,
      "metadata": {
        "colab": {
          "base_uri": "https://localhost:8080/"
        },
        "id": "Ek_HfAw9Gyar",
        "outputId": "d8d3f826-2411-4e5c-a335-d0fc4c861db6"
      },
      "outputs": [
        {
          "name": "stdout",
          "output_type": "stream",
          "text": [
            "DataFrame AEMET_Realidad Actualizado:\n",
            "       INDICATIVO  ANYO  MES  DIA                   NOMBRE  ALTITUD  \\\n",
            "0           0016A  2009    1    1          REUS/AEROPUERTO     71.0   \n",
            "1           0016A  2009    1    2          REUS/AEROPUERTO     71.0   \n",
            "2           0016A  2009    1    3          REUS/AEROPUERTO     71.0   \n",
            "3           0016A  2009    1    4          REUS/AEROPUERTO     71.0   \n",
            "4           0016A  2009    1    5          REUS/AEROPUERTO     71.0   \n",
            "...           ...   ...  ...  ...                      ...      ...   \n",
            "334634      C649I  2024    6   26  GRAN CANARIA/AEROPUERTO     24.0   \n",
            "334635      C649I  2024    6   27  GRAN CANARIA/AEROPUERTO     24.0   \n",
            "334636      C649I  2024    6   28  GRAN CANARIA/AEROPUERTO     24.0   \n",
            "334637      C649I  2024    6   29  GRAN CANARIA/AEROPUERTO     24.0   \n",
            "334638      C649I  2024    6   30  GRAN CANARIA/AEROPUERTO     24.0   \n",
            "\n",
            "          NOM_PROV   LONGITUD   LATITUD   MAX   MIN      FECHA  \n",
            "0        TARRAGONA   109491.0  410842.0  13.0   4.2 2009-01-01  \n",
            "1        TARRAGONA   109491.0  410842.0  11.3   4.2 2009-01-02  \n",
            "2        TARRAGONA   109491.0  410842.0  10.6   6.1 2009-01-03  \n",
            "3        TARRAGONA   109491.0  410842.0  11.3  -0.8 2009-01-04  \n",
            "4        TARRAGONA   109491.0  410842.0  10.6  -3.1 2009-01-05  \n",
            "...            ...        ...       ...   ...   ...        ...  \n",
            "334634  LAS PALMAS  1523432.0  275504.0  26.2  20.3 2024-06-26  \n",
            "334635  LAS PALMAS  1523432.0  275504.0  26.1  19.1 2024-06-27  \n",
            "334636  LAS PALMAS  1523432.0  275504.0  26.5  20.6 2024-06-28  \n",
            "334637  LAS PALMAS  1523432.0  275504.0  26.2  20.1 2024-06-29  \n",
            "334638  LAS PALMAS  1523432.0  275504.0  25.6  20.2 2024-06-30  \n",
            "\n",
            "[334639 rows x 12 columns]\n"
          ]
        }
      ],
      "source": [
        "# Hacer la combinación de los DataFrames\n",
        "merged_df = AEMET_Realidad.merge(Prediccion_AEMET_corta, left_on=['FECHA', 'INDICATIVO'], right_on=['FECHA', 'ID_ESTACION'], how='left')\n",
        "\n",
        "# Rellenar los valores perdidos en MAX y MIN\n",
        "merged_df['MAX'] = merged_df['MAX'].combine_first(merged_df['T_MAX'])\n",
        "merged_df['MIN'] = merged_df['MIN'].combine_first(merged_df['T_MIN'])\n",
        "\n",
        "# Seleccionar solo las columnas originales de AEMET_Realidad\n",
        "AEMET_Realidad_actualizado = merged_df[AEMET_Realidad.columns]\n",
        "\n",
        "print(\"DataFrame AEMET_Realidad Actualizado:\")\n",
        "print(AEMET_Realidad_actualizado)"
      ]
    },
    {
      "cell_type": "code",
      "execution_count": 202,
      "metadata": {},
      "outputs": [],
      "source": [
        "#creamos una funcion para colocar el signo correcto a las Longitudes y Latitudes\n",
        "def ajustar_longitud(df):\n",
        "    df=df.copy()\n",
        "    # Diccionario con provincias y si están al oeste del meridiano\n",
        "    provincias_oeste = {\n",
        "        'TARRAGONA': False, 'BARCELONA': False, 'GIRONA': False, 'GIPUZKOA': True,\n",
        "        'BIZKAIA': True, 'CANTABRIA': True, 'ASTURIAS': True, 'A CORUÑA': True,\n",
        "        'PONTEVEDRA': True, 'LUGO': True, 'LEON': True, 'OURENSE': True,\n",
        "        'SORIA': True, 'BURGOS': True, 'PALENCIA': True, 'VALLADOLID': True,\n",
        "        'AVILA': True, 'SEGOVIA': True, 'ZAMORA': True, 'SALAMANCA': True,\n",
        "        'MADRID': True, 'GUADALAJARA': True, 'TOLEDO': True, 'CACERES': True,\n",
        "        'CIUDAD REAL': True, 'BADAJOZ': True, 'HUELVA': True, 'JAEN': True,\n",
        "        'CORDOBA': True, 'GRANADA': True, 'SEVILLA': True, 'CADIZ': True,\n",
        "        'MALAGA': True, 'ALMERIA': True, 'MURCIA': False, 'ALICANTE': False,\n",
        "        'CUENCA': True, 'ALBACETE': True, 'TERUEL': False, 'VALENCIA': False,\n",
        "        'CASTELLON': False, 'ARABA/ALAVA': True, 'LA RIOJA': True, 'NAVARRA': True,\n",
        "        'ZARAGOZA': False, 'LLEIDA': False, 'HUESCA': False, 'BALEARES': False,\n",
        "        'LAS PALMAS': True\n",
        "    }\n",
        "    \n",
        "    # Aplicar el ajuste de longitud\n",
        "    df['LONGITUD'] = df.apply(lambda row: -row['LONGITUD'] if provincias_oeste.get(row['NOM_PROV'], False) else row['LONGITUD'], axis=1)\n",
        "    return df"
      ]
    },
    {
      "cell_type": "code",
      "execution_count": 203,
      "metadata": {},
      "outputs": [],
      "source": [
        "#creamos una funcion para corregir las posiciones de las latitudes y longitudes\n",
        "def ajustar_formato_longitud_latitud(df):\n",
        "    df=df.copy()\n",
        "    def convertir_longitud(valor):\n",
        "        if pd.isnull(valor) or not isinstance(valor, (int, float, str)):\n",
        "            return None\n",
        "        try:\n",
        "            valor_str = str(valor).strip().replace('.', '')\n",
        "            if len(valor_str) < 6:\n",
        "                return None\n",
        "            parte_entera = valor_str[:-6]\n",
        "            parte_decimal = valor_str[-6:]\n",
        "            return float(f\"{parte_entera}.{parte_decimal}\")\n",
        "        except ValueError:\n",
        "            return None\n",
        "\n",
        "    def convertir_latitud(valor):\n",
        "        if pd.isnull(valor) or not isinstance(valor, (int, float, str)):\n",
        "            return None\n",
        "        try:\n",
        "            valor_str = str(valor).strip().replace('.', '')\n",
        "            if len(valor_str) < 6:\n",
        "                return None\n",
        "            parte_entera = valor_str[:-5]\n",
        "            parte_decimal = valor_str[-5:]\n",
        "            return float(f\"{parte_entera}.{parte_decimal}\")\n",
        "        except ValueError:\n",
        "            return None\n",
        "\n",
        "    df['LONGITUD'] = df['LONGITUD'].apply(convertir_longitud)\n",
        "    df['LATITUD'] = df['LATITUD'].apply(convertir_latitud)\n",
        "    \n",
        "    return df "
      ]
    },
    {
      "cell_type": "code",
      "execution_count": 204,
      "metadata": {},
      "outputs": [],
      "source": [
        "#creamos un formato mas amigable para las busquedas por coordinadas\n",
        "def convertir_a_formato_busqueda(df):\n",
        "    df=df.copy()\n",
        "    # Crear la columna 'GOOGLE_MAPS' con el formato 'latitud,longitud'\n",
        "    df['GOOGLE_MAPS'] = df.apply(lambda row: f\"{row['LATITUD']},{row['LONGITUD']}\", axis=1)\n",
        "    return df"
      ]
    },
    {
      "cell_type": "code",
      "execution_count": 205,
      "metadata": {},
      "outputs": [
        {
          "data": {
            "text/html": [
              "<div>\n",
              "<style scoped>\n",
              "    .dataframe tbody tr th:only-of-type {\n",
              "        vertical-align: middle;\n",
              "    }\n",
              "\n",
              "    .dataframe tbody tr th {\n",
              "        vertical-align: top;\n",
              "    }\n",
              "\n",
              "    .dataframe thead th {\n",
              "        text-align: right;\n",
              "    }\n",
              "</style>\n",
              "<table border=\"1\" class=\"dataframe\">\n",
              "  <thead>\n",
              "    <tr style=\"text-align: right;\">\n",
              "      <th></th>\n",
              "      <th>INDICATIVO</th>\n",
              "      <th>ANYO</th>\n",
              "      <th>MES</th>\n",
              "      <th>DIA</th>\n",
              "      <th>NOMBRE</th>\n",
              "      <th>ALTITUD</th>\n",
              "      <th>NOM_PROV</th>\n",
              "      <th>LONGITUD</th>\n",
              "      <th>LATITUD</th>\n",
              "      <th>MAX</th>\n",
              "      <th>MIN</th>\n",
              "      <th>FECHA</th>\n",
              "      <th>GOOGLE_MAPS</th>\n",
              "    </tr>\n",
              "  </thead>\n",
              "  <tbody>\n",
              "    <tr>\n",
              "      <th>0</th>\n",
              "      <td>0016A</td>\n",
              "      <td>2009</td>\n",
              "      <td>1</td>\n",
              "      <td>1</td>\n",
              "      <td>REUS/AEROPUERTO</td>\n",
              "      <td>71.0</td>\n",
              "      <td>TARRAGONA</td>\n",
              "      <td>1.09491</td>\n",
              "      <td>41.0842</td>\n",
              "      <td>13.0</td>\n",
              "      <td>4.2</td>\n",
              "      <td>2009-01-01</td>\n",
              "      <td>41.0842,1.09491</td>\n",
              "    </tr>\n",
              "    <tr>\n",
              "      <th>1</th>\n",
              "      <td>0016A</td>\n",
              "      <td>2009</td>\n",
              "      <td>1</td>\n",
              "      <td>2</td>\n",
              "      <td>REUS/AEROPUERTO</td>\n",
              "      <td>71.0</td>\n",
              "      <td>TARRAGONA</td>\n",
              "      <td>1.09491</td>\n",
              "      <td>41.0842</td>\n",
              "      <td>11.3</td>\n",
              "      <td>4.2</td>\n",
              "      <td>2009-01-02</td>\n",
              "      <td>41.0842,1.09491</td>\n",
              "    </tr>\n",
              "    <tr>\n",
              "      <th>2</th>\n",
              "      <td>0016A</td>\n",
              "      <td>2009</td>\n",
              "      <td>1</td>\n",
              "      <td>3</td>\n",
              "      <td>REUS/AEROPUERTO</td>\n",
              "      <td>71.0</td>\n",
              "      <td>TARRAGONA</td>\n",
              "      <td>1.09491</td>\n",
              "      <td>41.0842</td>\n",
              "      <td>10.6</td>\n",
              "      <td>6.1</td>\n",
              "      <td>2009-01-03</td>\n",
              "      <td>41.0842,1.09491</td>\n",
              "    </tr>\n",
              "    <tr>\n",
              "      <th>3</th>\n",
              "      <td>0016A</td>\n",
              "      <td>2009</td>\n",
              "      <td>1</td>\n",
              "      <td>4</td>\n",
              "      <td>REUS/AEROPUERTO</td>\n",
              "      <td>71.0</td>\n",
              "      <td>TARRAGONA</td>\n",
              "      <td>1.09491</td>\n",
              "      <td>41.0842</td>\n",
              "      <td>11.3</td>\n",
              "      <td>-0.8</td>\n",
              "      <td>2009-01-04</td>\n",
              "      <td>41.0842,1.09491</td>\n",
              "    </tr>\n",
              "    <tr>\n",
              "      <th>4</th>\n",
              "      <td>0016A</td>\n",
              "      <td>2009</td>\n",
              "      <td>1</td>\n",
              "      <td>5</td>\n",
              "      <td>REUS/AEROPUERTO</td>\n",
              "      <td>71.0</td>\n",
              "      <td>TARRAGONA</td>\n",
              "      <td>1.09491</td>\n",
              "      <td>41.0842</td>\n",
              "      <td>10.6</td>\n",
              "      <td>-3.1</td>\n",
              "      <td>2009-01-05</td>\n",
              "      <td>41.0842,1.09491</td>\n",
              "    </tr>\n",
              "  </tbody>\n",
              "</table>\n",
              "</div>"
            ],
            "text/plain": [
              "  INDICATIVO  ANYO  MES  DIA           NOMBRE  ALTITUD   NOM_PROV  LONGITUD  \\\n",
              "0      0016A  2009    1    1  REUS/AEROPUERTO     71.0  TARRAGONA   1.09491   \n",
              "1      0016A  2009    1    2  REUS/AEROPUERTO     71.0  TARRAGONA   1.09491   \n",
              "2      0016A  2009    1    3  REUS/AEROPUERTO     71.0  TARRAGONA   1.09491   \n",
              "3      0016A  2009    1    4  REUS/AEROPUERTO     71.0  TARRAGONA   1.09491   \n",
              "4      0016A  2009    1    5  REUS/AEROPUERTO     71.0  TARRAGONA   1.09491   \n",
              "\n",
              "   LATITUD   MAX  MIN      FECHA      GOOGLE_MAPS  \n",
              "0  41.0842  13.0  4.2 2009-01-01  41.0842,1.09491  \n",
              "1  41.0842  11.3  4.2 2009-01-02  41.0842,1.09491  \n",
              "2  41.0842  10.6  6.1 2009-01-03  41.0842,1.09491  \n",
              "3  41.0842  11.3 -0.8 2009-01-04  41.0842,1.09491  \n",
              "4  41.0842  10.6 -3.1 2009-01-05  41.0842,1.09491  "
            ]
          },
          "execution_count": 205,
          "metadata": {},
          "output_type": "execute_result"
        }
      ],
      "source": [
        "AEMET_Realidad_actualizado = ajustar_longitud(AEMET_Realidad_actualizado)\n",
        "AEMET_Realidad_actualizado = ajustar_formato_longitud_latitud(AEMET_Realidad_actualizado)\n",
        "AEMET_Realidad_actualizado = convertir_a_formato_busqueda(AEMET_Realidad_actualizado)\n",
        "AEMET_Realidad_actualizado.head()"
      ]
    },
    {
      "cell_type": "code",
      "execution_count": 206,
      "metadata": {
        "id": "Fq4pk_AAHa-B"
      },
      "outputs": [],
      "source": [
        "AEMET_Realidad_actualizado.to_csv(path + '\\\\Cleaning\\\\AEMET_Realidad_clean.csv', index=False)"
      ]
    },
    {
      "cell_type": "code",
      "execution_count": 207,
      "metadata": {
        "colab": {
          "base_uri": "https://localhost:8080/"
        },
        "id": "FjbMX2cVHjXz",
        "outputId": "b084b083-0a43-4275-facc-37a2917468b8"
      },
      "outputs": [
        {
          "name": "stdout",
          "output_type": "stream",
          "text": [
            "INDICATIVO     0.000000\n",
            "ANYO           0.000000\n",
            "MES            0.000000\n",
            "DIA            0.000000\n",
            "NOMBRE         0.000000\n",
            "ALTITUD        0.654437\n",
            "NOM_PROV       0.654437\n",
            "LONGITUD       1.683008\n",
            "LATITUD        0.000000\n",
            "MAX            3.583563\n",
            "MIN            3.584161\n",
            "FECHA          0.000000\n",
            "GOOGLE_MAPS    0.000000\n",
            "dtype: float64\n",
            "\n",
            "INDICATIVO     0.000000\n",
            "ANYO           0.000000\n",
            "MES            0.000000\n",
            "DIA            0.000000\n",
            "NOMBRE         0.000000\n",
            "ALTITUD        0.654437\n",
            "NOM_PROV       0.654437\n",
            "LONGITUD       1.683008\n",
            "LATITUD        0.000000\n",
            "MAX            3.583563\n",
            "MIN            3.584161\n",
            "FECHA          0.000000\n",
            "GOOGLE_MAPS    0.000000\n",
            "dtype: float64\n"
          ]
        }
      ],
      "source": [
        "# Calcular el porcentaje de valores vacíos por columna\n",
        "porcentaje_perdidos = AEMET_Realidad_actualizado.isnull().mean() * 100\n",
        "porcentaje_perdidos_act = AEMET_Realidad_actualizado.isnull().mean() * 100\n",
        "\n",
        "# Mostrar el porcentaje de valores vacíos por columna\n",
        "print(porcentaje_perdidos)\n",
        "print()\n",
        "print(porcentaje_perdidos_act)"
      ]
    },
    {
      "cell_type": "code",
      "execution_count": 208,
      "metadata": {},
      "outputs": [],
      "source": [
        "def calcular_temperaturas_promedio_por_provincia_y_dia(df):\n",
        "    \"\"\"\n",
        "    Calcula las temperaturas máximas y mínimas por día, promediando por provincia.\n",
        "\n",
        "    Parámetros:\n",
        "    df (pandas.DataFrame): El DataFrame que contiene las columnas 'FECHA', 'NOM_PROV', 'MAX', y 'MIN'.\n",
        "\n",
        "    Retorna:\n",
        "    pandas.DataFrame: Un DataFrame con las temperaturas promedio por provincia y día.\n",
        "    \"\"\"\n",
        "    # Asegurarse de que la columna FECHA esté en formato de fecha\n",
        "    df['FECHA'] = pd.to_datetime(df['FECHA'], format='%Y-%m-%d')\n",
        "\n",
        "    # Agrupar por NOM_PROV y FECHA para calcular el promedio de MAX y MIN\n",
        "    temperatura_promedio = df.groupby(['NOM_PROV', 'FECHA']).agg({\n",
        "        'MAX': 'mean',\n",
        "        'MIN': 'mean'\n",
        "    }).reset_index()\n",
        "\n",
        "    # Redondear las temperaturas a dos decimales\n",
        "    temperatura_promedio['MAX'] = temperatura_promedio['MAX'].round(2)\n",
        "    temperatura_promedio['MIN'] = temperatura_promedio['MIN'].round(2)\n",
        "\n",
        "    return temperatura_promedio"
      ]
    },
    {
      "cell_type": "code",
      "execution_count": 209,
      "metadata": {},
      "outputs": [
        {
          "data": {
            "text/html": [
              "<div>\n",
              "<style scoped>\n",
              "    .dataframe tbody tr th:only-of-type {\n",
              "        vertical-align: middle;\n",
              "    }\n",
              "\n",
              "    .dataframe tbody tr th {\n",
              "        vertical-align: top;\n",
              "    }\n",
              "\n",
              "    .dataframe thead th {\n",
              "        text-align: right;\n",
              "    }\n",
              "</style>\n",
              "<table border=\"1\" class=\"dataframe\">\n",
              "  <thead>\n",
              "    <tr style=\"text-align: right;\">\n",
              "      <th></th>\n",
              "      <th>NOM_PROV</th>\n",
              "      <th>FECHA</th>\n",
              "      <th>MAX</th>\n",
              "      <th>MIN</th>\n",
              "    </tr>\n",
              "  </thead>\n",
              "  <tbody>\n",
              "    <tr>\n",
              "      <th>0</th>\n",
              "      <td>A CORUÑA</td>\n",
              "      <td>2009-01-01</td>\n",
              "      <td>15.35</td>\n",
              "      <td>10.8</td>\n",
              "    </tr>\n",
              "    <tr>\n",
              "      <th>202455</th>\n",
              "      <td>PALENCIA</td>\n",
              "      <td>2009-01-01</td>\n",
              "      <td>9.00</td>\n",
              "      <td>2.5</td>\n",
              "    </tr>\n",
              "    <tr>\n",
              "      <th>50799</th>\n",
              "      <td>BARCELONA</td>\n",
              "      <td>2009-01-01</td>\n",
              "      <td>13.40</td>\n",
              "      <td>7.9</td>\n",
              "    </tr>\n",
              "  </tbody>\n",
              "</table>\n",
              "</div>"
            ],
            "text/plain": [
              "         NOM_PROV      FECHA    MAX   MIN\n",
              "0        A CORUÑA 2009-01-01  15.35  10.8\n",
              "202455   PALENCIA 2009-01-01   9.00   2.5\n",
              "50799   BARCELONA 2009-01-01  13.40   7.9"
            ]
          },
          "execution_count": 209,
          "metadata": {},
          "output_type": "execute_result"
        }
      ],
      "source": [
        "# Uso de la función con el DataFrame AEMET_Realidad_actualizado\n",
        "provincias_temperaturas_promedio = calcular_temperaturas_promedio_por_provincia_y_dia(AEMET_Realidad_actualizado)\n",
        "# Ordenar el DataFrame por la columna FECHA\n",
        "provincias_temperaturas_promedio = provincias_temperaturas_promedio.sort_values(by='FECHA')\n",
        "# Verificar el resultado\n",
        "provincias_temperaturas_promedio.head(3)"
      ]
    },
    {
      "cell_type": "code",
      "execution_count": 210,
      "metadata": {},
      "outputs": [],
      "source": [
        "#Guardamos nuestro dataset por si lo necesitamos mas adelante\n",
        "provincias_temperaturas_promedio.to_csv(path + '\\\\Cleaning\\\\provincias_temperaturas_promedio.csv', index=False)"
      ]
    }
  ],
  "metadata": {
    "colab": {
      "provenance": []
    },
    "kernelspec": {
      "display_name": "Python 3",
      "name": "python3"
    },
    "language_info": {
      "codemirror_mode": {
        "name": "ipython",
        "version": 3
      },
      "file_extension": ".py",
      "mimetype": "text/x-python",
      "name": "python",
      "nbconvert_exporter": "python",
      "pygments_lexer": "ipython3",
      "version": "3.12.0"
    }
  },
  "nbformat": 4,
  "nbformat_minor": 0
}
